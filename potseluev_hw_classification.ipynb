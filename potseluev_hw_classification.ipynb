{
  "nbformat": 4,
  "nbformat_minor": 0,
  "metadata": {
    "colab": {
      "provenance": [],
      "authorship_tag": "ABX9TyP7QwcsBapBnIIo2beDGXk7",
      "include_colab_link": true
    },
    "kernelspec": {
      "name": "python3",
      "display_name": "Python 3"
    },
    "language_info": {
      "name": "python"
    }
  },
  "cells": [
    {
      "cell_type": "markdown",
      "metadata": {
        "id": "view-in-github",
        "colab_type": "text"
      },
      "source": [
        "<a href=\"https://colab.research.google.com/github/vsevolodi/Machine-Learning-HW/blob/main/potseluev_hw_classification.ipynb\" target=\"_parent\"><img src=\"https://colab.research.google.com/assets/colab-badge.svg\" alt=\"Open In Colab\"/></a>"
      ]
    },
    {
      "cell_type": "code",
      "execution_count": 2,
      "metadata": {
        "colab": {
          "base_uri": "https://localhost:8080/"
        },
        "id": "1sRiObQaWIDP",
        "outputId": "560fae24-7191-4088-cd4f-91396ec31512"
      },
      "outputs": [
        {
          "output_type": "stream",
          "name": "stderr",
          "text": [
            "INFO:__main__:Инициализировали логгер\n",
            "INFO:__main__:Подключили диск\n",
            "INFO:__main__:Содержимое директории /content/drive/MyDrive/hse_nlp_2021: ['winemag-data_first150k.csv', 'boosting_toy_dataset.csv', 'client_segmentation.csv', 'non_linear.csv', 'final_dataset.zip', 'insurance.csv', 'gray_goose.jpg', 'eigen.pkl', 'nyt-ingredients-snapshot-2015.csv', 'clustering.pkl', 'politic_meme.jpg', 'ocr_dataset.zip', 'corpora', 'torch_models', 'nltk_data_old', 'recsys_data', 'logs', 'memes', 'nltk_data', 'my_little_recsys', 'optimal_push_time', 'sklearn_data', 'test_task_data']\n"
          ]
        },
        {
          "output_type": "stream",
          "name": "stdout",
          "text": [
            "Drive already mounted at /content/drive; to attempt to forcibly remount, call drive.mount(\"/content/drive\", force_remount=True).\n"
          ]
        }
      ],
      "source": [
        "import logging\n",
        "import os\n",
        "import shutil\n",
        "from tqdm import tqdm\n",
        "\n",
        "import numpy as np\n",
        "from google.colab import drive\n",
        "\n",
        "RANDOM_SEED = 42\n",
        "np.random.seed(RANDOM_SEED)\n",
        "\n",
        "logging.getLogger().setLevel(logging.INFO)\n",
        "logging.basicConfig(format='%(asctime)s : %(levelname)s : %(message)s', level=logging.INFO)\n",
        "logger = logging.getLogger(__name__)\n",
        "logger.info('Инициализировали логгер')\n",
        "\n",
        "ROOT_DIR = '/content/drive' \n",
        "drive.mount(ROOT_DIR)\n",
        "logger.info('Подключили диск')\n",
        "\n",
        "root_data_dir = os.path.join(ROOT_DIR, 'MyDrive', 'hse_nlp_2021')\n",
        "if not os.path.exists(root_data_dir):\n",
        "  raise RuntimeError('Отсутствует директория с данными')\n",
        "else:\n",
        "  logger.info('Содержимое директории %s: %s', root_data_dir, os.listdir(root_data_dir))"
      ]
    },
    {
      "cell_type": "code",
      "source": [
        "import os\n",
        "\n",
        "import numpy as np\n",
        "import pandas as pd\n",
        "\n",
        "import seaborn as sns\n",
        "import matplotlib.pyplot as plt\n",
        "\n",
        "raw_data_file = os.path.join(root_data_dir, 'winemag-data_first150k.csv')\n",
        "\n",
        "df_source = pd.read_csv(\n",
        "    raw_data_file, sep=',',\n",
        ")\n",
        "\n",
        "df_source.head()\n"
      ],
      "metadata": {
        "colab": {
          "base_uri": "https://localhost:8080/",
          "height": 371
        },
        "id": "EGKoUgxyWVhC",
        "outputId": "c3ff24d4-40f2-4213-a31e-a0dffc747b10"
      },
      "execution_count": 3,
      "outputs": [
        {
          "output_type": "stream",
          "name": "stderr",
          "text": [
            "INFO:numexpr.utils:NumExpr defaulting to 2 threads.\n"
          ]
        },
        {
          "output_type": "execute_result",
          "data": {
            "text/plain": [
              "   Unnamed: 0 country                                        description  \\\n",
              "0           0      US  This tremendous 100% varietal wine hails from ...   \n",
              "1           1   Spain  Ripe aromas of fig, blackberry and cassis are ...   \n",
              "2           2      US  Mac Watson honors the memory of a wine once ma...   \n",
              "3           3      US  This spent 20 months in 30% new French oak, an...   \n",
              "4           4  France  This is the top wine from La Bégude, named aft...   \n",
              "\n",
              "                            designation  points  price        province  \\\n",
              "0                     Martha's Vineyard      96  235.0      California   \n",
              "1  Carodorum Selección Especial Reserva      96  110.0  Northern Spain   \n",
              "2         Special Selected Late Harvest      96   90.0      California   \n",
              "3                               Reserve      96   65.0          Oregon   \n",
              "4                            La Brûlade      95   66.0        Provence   \n",
              "\n",
              "            region_1           region_2             variety  \\\n",
              "0        Napa Valley               Napa  Cabernet Sauvignon   \n",
              "1               Toro                NaN       Tinta de Toro   \n",
              "2     Knights Valley             Sonoma     Sauvignon Blanc   \n",
              "3  Willamette Valley  Willamette Valley          Pinot Noir   \n",
              "4             Bandol                NaN  Provence red blend   \n",
              "\n",
              "                    winery  \n",
              "0                    Heitz  \n",
              "1  Bodega Carmen Rodríguez  \n",
              "2                 Macauley  \n",
              "3                    Ponzi  \n",
              "4     Domaine de la Bégude  "
            ],
            "text/html": [
              "\n",
              "  <div id=\"df-565b2aa7-bbb2-4ae8-aa80-3259f93522fe\">\n",
              "    <div class=\"colab-df-container\">\n",
              "      <div>\n",
              "<style scoped>\n",
              "    .dataframe tbody tr th:only-of-type {\n",
              "        vertical-align: middle;\n",
              "    }\n",
              "\n",
              "    .dataframe tbody tr th {\n",
              "        vertical-align: top;\n",
              "    }\n",
              "\n",
              "    .dataframe thead th {\n",
              "        text-align: right;\n",
              "    }\n",
              "</style>\n",
              "<table border=\"1\" class=\"dataframe\">\n",
              "  <thead>\n",
              "    <tr style=\"text-align: right;\">\n",
              "      <th></th>\n",
              "      <th>Unnamed: 0</th>\n",
              "      <th>country</th>\n",
              "      <th>description</th>\n",
              "      <th>designation</th>\n",
              "      <th>points</th>\n",
              "      <th>price</th>\n",
              "      <th>province</th>\n",
              "      <th>region_1</th>\n",
              "      <th>region_2</th>\n",
              "      <th>variety</th>\n",
              "      <th>winery</th>\n",
              "    </tr>\n",
              "  </thead>\n",
              "  <tbody>\n",
              "    <tr>\n",
              "      <th>0</th>\n",
              "      <td>0</td>\n",
              "      <td>US</td>\n",
              "      <td>This tremendous 100% varietal wine hails from ...</td>\n",
              "      <td>Martha's Vineyard</td>\n",
              "      <td>96</td>\n",
              "      <td>235.0</td>\n",
              "      <td>California</td>\n",
              "      <td>Napa Valley</td>\n",
              "      <td>Napa</td>\n",
              "      <td>Cabernet Sauvignon</td>\n",
              "      <td>Heitz</td>\n",
              "    </tr>\n",
              "    <tr>\n",
              "      <th>1</th>\n",
              "      <td>1</td>\n",
              "      <td>Spain</td>\n",
              "      <td>Ripe aromas of fig, blackberry and cassis are ...</td>\n",
              "      <td>Carodorum Selección Especial Reserva</td>\n",
              "      <td>96</td>\n",
              "      <td>110.0</td>\n",
              "      <td>Northern Spain</td>\n",
              "      <td>Toro</td>\n",
              "      <td>NaN</td>\n",
              "      <td>Tinta de Toro</td>\n",
              "      <td>Bodega Carmen Rodríguez</td>\n",
              "    </tr>\n",
              "    <tr>\n",
              "      <th>2</th>\n",
              "      <td>2</td>\n",
              "      <td>US</td>\n",
              "      <td>Mac Watson honors the memory of a wine once ma...</td>\n",
              "      <td>Special Selected Late Harvest</td>\n",
              "      <td>96</td>\n",
              "      <td>90.0</td>\n",
              "      <td>California</td>\n",
              "      <td>Knights Valley</td>\n",
              "      <td>Sonoma</td>\n",
              "      <td>Sauvignon Blanc</td>\n",
              "      <td>Macauley</td>\n",
              "    </tr>\n",
              "    <tr>\n",
              "      <th>3</th>\n",
              "      <td>3</td>\n",
              "      <td>US</td>\n",
              "      <td>This spent 20 months in 30% new French oak, an...</td>\n",
              "      <td>Reserve</td>\n",
              "      <td>96</td>\n",
              "      <td>65.0</td>\n",
              "      <td>Oregon</td>\n",
              "      <td>Willamette Valley</td>\n",
              "      <td>Willamette Valley</td>\n",
              "      <td>Pinot Noir</td>\n",
              "      <td>Ponzi</td>\n",
              "    </tr>\n",
              "    <tr>\n",
              "      <th>4</th>\n",
              "      <td>4</td>\n",
              "      <td>France</td>\n",
              "      <td>This is the top wine from La Bégude, named aft...</td>\n",
              "      <td>La Brûlade</td>\n",
              "      <td>95</td>\n",
              "      <td>66.0</td>\n",
              "      <td>Provence</td>\n",
              "      <td>Bandol</td>\n",
              "      <td>NaN</td>\n",
              "      <td>Provence red blend</td>\n",
              "      <td>Domaine de la Bégude</td>\n",
              "    </tr>\n",
              "  </tbody>\n",
              "</table>\n",
              "</div>\n",
              "      <button class=\"colab-df-convert\" onclick=\"convertToInteractive('df-565b2aa7-bbb2-4ae8-aa80-3259f93522fe')\"\n",
              "              title=\"Convert this dataframe to an interactive table.\"\n",
              "              style=\"display:none;\">\n",
              "        \n",
              "  <svg xmlns=\"http://www.w3.org/2000/svg\" height=\"24px\"viewBox=\"0 0 24 24\"\n",
              "       width=\"24px\">\n",
              "    <path d=\"M0 0h24v24H0V0z\" fill=\"none\"/>\n",
              "    <path d=\"M18.56 5.44l.94 2.06.94-2.06 2.06-.94-2.06-.94-.94-2.06-.94 2.06-2.06.94zm-11 1L8.5 8.5l.94-2.06 2.06-.94-2.06-.94L8.5 2.5l-.94 2.06-2.06.94zm10 10l.94 2.06.94-2.06 2.06-.94-2.06-.94-.94-2.06-.94 2.06-2.06.94z\"/><path d=\"M17.41 7.96l-1.37-1.37c-.4-.4-.92-.59-1.43-.59-.52 0-1.04.2-1.43.59L10.3 9.45l-7.72 7.72c-.78.78-.78 2.05 0 2.83L4 21.41c.39.39.9.59 1.41.59.51 0 1.02-.2 1.41-.59l7.78-7.78 2.81-2.81c.8-.78.8-2.07 0-2.86zM5.41 20L4 18.59l7.72-7.72 1.47 1.35L5.41 20z\"/>\n",
              "  </svg>\n",
              "      </button>\n",
              "      \n",
              "  <style>\n",
              "    .colab-df-container {\n",
              "      display:flex;\n",
              "      flex-wrap:wrap;\n",
              "      gap: 12px;\n",
              "    }\n",
              "\n",
              "    .colab-df-convert {\n",
              "      background-color: #E8F0FE;\n",
              "      border: none;\n",
              "      border-radius: 50%;\n",
              "      cursor: pointer;\n",
              "      display: none;\n",
              "      fill: #1967D2;\n",
              "      height: 32px;\n",
              "      padding: 0 0 0 0;\n",
              "      width: 32px;\n",
              "    }\n",
              "\n",
              "    .colab-df-convert:hover {\n",
              "      background-color: #E2EBFA;\n",
              "      box-shadow: 0px 1px 2px rgba(60, 64, 67, 0.3), 0px 1px 3px 1px rgba(60, 64, 67, 0.15);\n",
              "      fill: #174EA6;\n",
              "    }\n",
              "\n",
              "    [theme=dark] .colab-df-convert {\n",
              "      background-color: #3B4455;\n",
              "      fill: #D2E3FC;\n",
              "    }\n",
              "\n",
              "    [theme=dark] .colab-df-convert:hover {\n",
              "      background-color: #434B5C;\n",
              "      box-shadow: 0px 1px 3px 1px rgba(0, 0, 0, 0.15);\n",
              "      filter: drop-shadow(0px 1px 2px rgba(0, 0, 0, 0.3));\n",
              "      fill: #FFFFFF;\n",
              "    }\n",
              "  </style>\n",
              "\n",
              "      <script>\n",
              "        const buttonEl =\n",
              "          document.querySelector('#df-565b2aa7-bbb2-4ae8-aa80-3259f93522fe button.colab-df-convert');\n",
              "        buttonEl.style.display =\n",
              "          google.colab.kernel.accessAllowed ? 'block' : 'none';\n",
              "\n",
              "        async function convertToInteractive(key) {\n",
              "          const element = document.querySelector('#df-565b2aa7-bbb2-4ae8-aa80-3259f93522fe');\n",
              "          const dataTable =\n",
              "            await google.colab.kernel.invokeFunction('convertToInteractive',\n",
              "                                                     [key], {});\n",
              "          if (!dataTable) return;\n",
              "\n",
              "          const docLinkHtml = 'Like what you see? Visit the ' +\n",
              "            '<a target=\"_blank\" href=https://colab.research.google.com/notebooks/data_table.ipynb>data table notebook</a>'\n",
              "            + ' to learn more about interactive tables.';\n",
              "          element.innerHTML = '';\n",
              "          dataTable['output_type'] = 'display_data';\n",
              "          await google.colab.output.renderOutput(dataTable, element);\n",
              "          const docLink = document.createElement('div');\n",
              "          docLink.innerHTML = docLinkHtml;\n",
              "          element.appendChild(docLink);\n",
              "        }\n",
              "      </script>\n",
              "    </div>\n",
              "  </div>\n",
              "  "
            ]
          },
          "metadata": {},
          "execution_count": 3
        }
      ]
    },
    {
      "cell_type": "code",
      "source": [
        "#for test runs and time economy\n",
        "#df_source = df_source[:500]"
      ],
      "metadata": {
        "id": "zkWPu_Kr6V-P"
      },
      "execution_count": 4,
      "outputs": []
    },
    {
      "cell_type": "code",
      "source": [
        "df_source.info()"
      ],
      "metadata": {
        "colab": {
          "base_uri": "https://localhost:8080/"
        },
        "id": "7EJn1LxrdzwU",
        "outputId": "ab6732e1-1da9-4aeb-e771-85d19d8cf4ff"
      },
      "execution_count": 5,
      "outputs": [
        {
          "output_type": "stream",
          "name": "stdout",
          "text": [
            "<class 'pandas.core.frame.DataFrame'>\n",
            "RangeIndex: 150930 entries, 0 to 150929\n",
            "Data columns (total 11 columns):\n",
            " #   Column       Non-Null Count   Dtype  \n",
            "---  ------       --------------   -----  \n",
            " 0   Unnamed: 0   150930 non-null  int64  \n",
            " 1   country      150925 non-null  object \n",
            " 2   description  150930 non-null  object \n",
            " 3   designation  105195 non-null  object \n",
            " 4   points       150930 non-null  int64  \n",
            " 5   price        137235 non-null  float64\n",
            " 6   province     150925 non-null  object \n",
            " 7   region_1     125870 non-null  object \n",
            " 8   region_2     60953 non-null   object \n",
            " 9   variety      150930 non-null  object \n",
            " 10  winery       150930 non-null  object \n",
            "dtypes: float64(1), int64(2), object(8)\n",
            "memory usage: 12.7+ MB\n"
          ]
        }
      ]
    },
    {
      "cell_type": "markdown",
      "source": [
        "Here I use Doc2Vec to assign vectors to descriptions"
      ],
      "metadata": {
        "id": "0mQg4dGWclrm"
      }
    },
    {
      "cell_type": "code",
      "source": [
        "from gensim.models.doc2vec import Doc2Vec, TaggedDocument\n",
        "data = df_source\n",
        "data[\"description\"] = data.description.apply(lambda x: x.lower().split())\n",
        "data[\"description\"]"
      ],
      "metadata": {
        "colab": {
          "base_uri": "https://localhost:8080/"
        },
        "id": "rNeEwm-qf4qg",
        "outputId": "54ba900e-203c-4b39-c93d-5ce36c0acff7"
      },
      "execution_count": 6,
      "outputs": [
        {
          "output_type": "execute_result",
          "data": {
            "text/plain": [
              "0         [this, tremendous, 100%, varietal, wine, hails...\n",
              "1         [ripe, aromas, of, fig,, blackberry, and, cass...\n",
              "2         [mac, watson, honors, the, memory, of, a, wine...\n",
              "3         [this, spent, 20, months, in, 30%, new, french...\n",
              "4         [this, is, the, top, wine, from, la, bégude,, ...\n",
              "                                ...                        \n",
              "150925    [many, people, feel, fiano, represents, southe...\n",
              "150926    [offers, an, intriguing, nose, with, ginger,, ...\n",
              "150927    [this, classic, example, comes, from, a, cru, ...\n",
              "150928    [a, perfect, salmon, shade,, with, scents, of,...\n",
              "150929    [more, pinot, grigios, should, taste, like, th...\n",
              "Name: description, Length: 150930, dtype: object"
            ]
          },
          "metadata": {},
          "execution_count": 6
        }
      ]
    },
    {
      "cell_type": "code",
      "source": [
        "texts = list(data.description.values)\n",
        "documents = [TaggedDocument(doc, [i]) for i, doc in enumerate(texts)]\n",
        "documents[10:12]"
      ],
      "metadata": {
        "colab": {
          "base_uri": "https://localhost:8080/"
        },
        "id": "6Abv0RE7RqCd",
        "outputId": "0afdd10e-b2d9-42f8-858d-284bd033532f"
      },
      "execution_count": 7,
      "outputs": [
        {
          "output_type": "execute_result",
          "data": {
            "text/plain": [
              "[TaggedDocument(words=['elegance,', 'complexity', 'and', 'structure', 'come', 'together', 'in', 'this', 'drop-dead', 'gorgeous', 'winethat', 'ranks', 'among', \"italy's\", 'greatest', 'whites.', 'it', 'opens', 'with', 'sublime', 'yellow', 'spring', 'flower,', 'aromatic', 'herb', 'and', 'orchard', 'fruit', 'scents.', 'the', 'creamy,', 'delicious', 'palate', 'seamlessly', 'combines', 'juicy', 'white', 'peach,', 'ripe', 'pear', 'and', 'citrus', 'flavors', 'while', 'white', 'almond', 'and', 'savory', 'mineral', 'notes', 'grace', 'the', 'lingering', 'finish.'], tags=[10]),\n",
              " TaggedDocument(words=['from', '18-year-old', 'vines,', 'this', 'supple', 'well-balanced', 'effort', 'blends', 'flavors', 'of', 'mocha,', 'cherry,', 'vanilla', 'and', 'breakfast', 'tea.', 'superbly', 'integrated', 'and', 'delicious', 'even', 'at', 'this', 'early', 'stage,', 'this', 'wine', 'seems', 'destined', 'for', 'a', 'long', 'and', 'savory', 'cellar', 'life.', 'drink', 'now', 'through', '2028.'], tags=[11])]"
            ]
          },
          "metadata": {},
          "execution_count": 7
        }
      ]
    },
    {
      "cell_type": "code",
      "source": [
        "model = Doc2Vec(documents, vector_size=5, window=2, min_count=1, workers=10)"
      ],
      "metadata": {
        "colab": {
          "base_uri": "https://localhost:8080/"
        },
        "id": "BeLp_PLUWdQk",
        "outputId": "1eeafdd7-39ab-45cc-a09a-253507a5700a"
      },
      "execution_count": 8,
      "outputs": [
        {
          "output_type": "stream",
          "name": "stderr",
          "text": [
            "INFO:gensim.models.doc2vec:collecting all words and their counts\n",
            "INFO:gensim.models.doc2vec:PROGRESS: at example #0, processed 0 words (0 words/s), 0 word types, 0 tags\n",
            "INFO:gensim.models.doc2vec:PROGRESS: at example #10000, processed 402207 words (2607739 words/s), 17856 word types, 0 tags\n",
            "INFO:gensim.models.doc2vec:PROGRESS: at example #20000, processed 804303 words (2418253 words/s), 28131 word types, 0 tags\n",
            "INFO:gensim.models.doc2vec:PROGRESS: at example #30000, processed 1201282 words (2388365 words/s), 34469 word types, 0 tags\n",
            "INFO:gensim.models.doc2vec:PROGRESS: at example #40000, processed 1590577 words (2154594 words/s), 38842 word types, 0 tags\n",
            "INFO:gensim.models.doc2vec:PROGRESS: at example #50000, processed 1978399 words (2269149 words/s), 43341 word types, 0 tags\n",
            "INFO:gensim.models.doc2vec:PROGRESS: at example #60000, processed 2382398 words (2253298 words/s), 47671 word types, 0 tags\n",
            "INFO:gensim.models.doc2vec:PROGRESS: at example #70000, processed 2796774 words (2123472 words/s), 54022 word types, 0 tags\n",
            "INFO:gensim.models.doc2vec:PROGRESS: at example #80000, processed 3187809 words (2217963 words/s), 56405 word types, 0 tags\n",
            "INFO:gensim.models.doc2vec:PROGRESS: at example #90000, processed 3570694 words (1583556 words/s), 58241 word types, 0 tags\n",
            "INFO:gensim.models.doc2vec:PROGRESS: at example #100000, processed 3975281 words (387849 words/s), 60220 word types, 0 tags\n",
            "INFO:gensim.models.doc2vec:PROGRESS: at example #110000, processed 4372244 words (2179541 words/s), 62409 word types, 0 tags\n",
            "INFO:gensim.models.doc2vec:PROGRESS: at example #120000, processed 4781012 words (1947416 words/s), 64527 word types, 0 tags\n",
            "INFO:gensim.models.doc2vec:PROGRESS: at example #130000, processed 5192657 words (1989904 words/s), 65174 word types, 0 tags\n",
            "INFO:gensim.models.doc2vec:PROGRESS: at example #140000, processed 5610722 words (2166231 words/s), 66680 word types, 0 tags\n",
            "INFO:gensim.models.doc2vec:PROGRESS: at example #150000, processed 6026586 words (1942252 words/s), 69517 word types, 0 tags\n",
            "INFO:gensim.models.doc2vec:collected 69517 word types and 150930 unique tags from a corpus of 150930 examples and 6064847 words\n",
            "INFO:gensim.models.word2vec:Creating a fresh vocabulary\n",
            "INFO:gensim.utils:Doc2Vec lifecycle event {'msg': 'effective_min_count=1 retains 69517 unique words (100.00% of original 69517, drops 0)', 'datetime': '2023-05-02T15:41:24.980957', 'gensim': '4.3.1', 'python': '3.10.11 (main, Apr  5 2023, 14:15:10) [GCC 9.4.0]', 'platform': 'Linux-5.10.147+-x86_64-with-glibc2.31', 'event': 'prepare_vocab'}\n",
            "INFO:gensim.utils:Doc2Vec lifecycle event {'msg': 'effective_min_count=1 leaves 6064847 word corpus (100.00% of original 6064847, drops 0)', 'datetime': '2023-05-02T15:41:24.989743', 'gensim': '4.3.1', 'python': '3.10.11 (main, Apr  5 2023, 14:15:10) [GCC 9.4.0]', 'platform': 'Linux-5.10.147+-x86_64-with-glibc2.31', 'event': 'prepare_vocab'}\n",
            "INFO:gensim.models.word2vec:deleting the raw counts dictionary of 69517 items\n",
            "INFO:gensim.models.word2vec:sample=0.001 downsamples 37 most-common words\n",
            "INFO:gensim.utils:Doc2Vec lifecycle event {'msg': 'downsampling leaves estimated 4531829.919723737 word corpus (74.7%% of prior 6064847)', 'datetime': '2023-05-02T15:41:26.084280', 'gensim': '4.3.1', 'python': '3.10.11 (main, Apr  5 2023, 14:15:10) [GCC 9.4.0]', 'platform': 'Linux-5.10.147+-x86_64-with-glibc2.31', 'event': 'prepare_vocab'}\n",
            "INFO:gensim.models.word2vec:estimated required memory for 69517 words and 5 dimensions: 70743780 bytes\n",
            "INFO:gensim.models.word2vec:resetting layer weights\n",
            "INFO:gensim.utils:Doc2Vec lifecycle event {'msg': 'training model with 10 workers on 69517 vocabulary and 5 features, using sg=0 hs=0 sample=0.001 negative=5 window=2 shrink_windows=True', 'datetime': '2023-05-02T15:41:27.022886', 'gensim': '4.3.1', 'python': '3.10.11 (main, Apr  5 2023, 14:15:10) [GCC 9.4.0]', 'platform': 'Linux-5.10.147+-x86_64-with-glibc2.31', 'event': 'train'}\n",
            "INFO:gensim.models.word2vec:EPOCH 0 - PROGRESS: at 3.34% examples, 146686 words/s, in_qsize 19, out_qsize 0\n",
            "INFO:gensim.models.word2vec:EPOCH 0 - PROGRESS: at 7.06% examples, 157428 words/s, in_qsize 19, out_qsize 0\n",
            "INFO:gensim.models.word2vec:EPOCH 0 - PROGRESS: at 10.91% examples, 165420 words/s, in_qsize 19, out_qsize 0\n",
            "INFO:gensim.models.word2vec:EPOCH 0 - PROGRESS: at 15.34% examples, 172131 words/s, in_qsize 20, out_qsize 0\n",
            "INFO:gensim.models.word2vec:EPOCH 0 - PROGRESS: at 19.01% examples, 171434 words/s, in_qsize 19, out_qsize 0\n",
            "INFO:gensim.models.word2vec:EPOCH 0 - PROGRESS: at 23.40% examples, 175133 words/s, in_qsize 20, out_qsize 0\n",
            "INFO:gensim.models.word2vec:EPOCH 0 - PROGRESS: at 27.30% examples, 173757 words/s, in_qsize 19, out_qsize 0\n",
            "INFO:gensim.models.word2vec:EPOCH 0 - PROGRESS: at 31.09% examples, 173130 words/s, in_qsize 19, out_qsize 0\n",
            "INFO:gensim.models.word2vec:EPOCH 0 - PROGRESS: at 35.44% examples, 174849 words/s, in_qsize 19, out_qsize 0\n",
            "INFO:gensim.models.word2vec:EPOCH 0 - PROGRESS: at 39.14% examples, 174409 words/s, in_qsize 19, out_qsize 0\n",
            "INFO:gensim.models.word2vec:EPOCH 0 - PROGRESS: at 43.46% examples, 177290 words/s, in_qsize 19, out_qsize 0\n",
            "INFO:gensim.models.word2vec:EPOCH 0 - PROGRESS: at 46.96% examples, 176223 words/s, in_qsize 19, out_qsize 0\n",
            "INFO:gensim.models.word2vec:EPOCH 0 - PROGRESS: at 50.53% examples, 174991 words/s, in_qsize 19, out_qsize 0\n",
            "INFO:gensim.models.word2vec:EPOCH 0 - PROGRESS: at 54.73% examples, 175024 words/s, in_qsize 19, out_qsize 0\n",
            "INFO:gensim.models.word2vec:EPOCH 0 - PROGRESS: at 59.16% examples, 175988 words/s, in_qsize 19, out_qsize 0\n",
            "INFO:gensim.models.word2vec:EPOCH 0 - PROGRESS: at 63.28% examples, 176834 words/s, in_qsize 19, out_qsize 0\n",
            "INFO:gensim.models.word2vec:EPOCH 0 - PROGRESS: at 67.37% examples, 177175 words/s, in_qsize 19, out_qsize 0\n",
            "INFO:gensim.models.word2vec:EPOCH 0 - PROGRESS: at 71.44% examples, 177415 words/s, in_qsize 19, out_qsize 0\n",
            "INFO:gensim.models.word2vec:EPOCH 0 - PROGRESS: at 75.59% examples, 178376 words/s, in_qsize 19, out_qsize 0\n",
            "INFO:gensim.models.word2vec:EPOCH 0 - PROGRESS: at 79.98% examples, 179616 words/s, in_qsize 19, out_qsize 0\n",
            "INFO:gensim.models.word2vec:EPOCH 0 - PROGRESS: at 83.40% examples, 178665 words/s, in_qsize 19, out_qsize 0\n",
            "INFO:gensim.models.word2vec:EPOCH 0 - PROGRESS: at 87.16% examples, 178544 words/s, in_qsize 19, out_qsize 0\n",
            "INFO:gensim.models.word2vec:EPOCH 0 - PROGRESS: at 91.30% examples, 179378 words/s, in_qsize 20, out_qsize 0\n",
            "INFO:gensim.models.word2vec:EPOCH 0 - PROGRESS: at 94.73% examples, 178453 words/s, in_qsize 19, out_qsize 0\n",
            "INFO:gensim.models.word2vec:EPOCH 0 - PROGRESS: at 98.62% examples, 178523 words/s, in_qsize 9, out_qsize 1\n",
            "INFO:gensim.models.word2vec:EPOCH 0: training on 6064847 raw words (4683884 effective words) took 26.1s, 179671 effective words/s\n",
            "INFO:gensim.models.word2vec:EPOCH 1 - PROGRESS: at 3.34% examples, 121361 words/s, in_qsize 19, out_qsize 0\n",
            "INFO:gensim.models.word2vec:EPOCH 1 - PROGRESS: at 7.99% examples, 157923 words/s, in_qsize 19, out_qsize 0\n",
            "INFO:gensim.models.word2vec:EPOCH 1 - PROGRESS: at 11.61% examples, 155562 words/s, in_qsize 20, out_qsize 0\n",
            "INFO:gensim.models.word2vec:EPOCH 1 - PROGRESS: at 16.32% examples, 163813 words/s, in_qsize 20, out_qsize 0\n",
            "INFO:gensim.models.word2vec:EPOCH 1 - PROGRESS: at 20.81% examples, 170998 words/s, in_qsize 19, out_qsize 0\n",
            "INFO:gensim.models.word2vec:EPOCH 1 - PROGRESS: at 25.09% examples, 174090 words/s, in_qsize 19, out_qsize 0\n",
            "INFO:gensim.models.word2vec:EPOCH 1 - PROGRESS: at 29.51% examples, 176892 words/s, in_qsize 19, out_qsize 0\n",
            "INFO:gensim.models.word2vec:EPOCH 1 - PROGRESS: at 33.77% examples, 177545 words/s, in_qsize 19, out_qsize 0\n",
            "INFO:gensim.models.word2vec:EPOCH 1 - PROGRESS: at 38.06% examples, 179841 words/s, in_qsize 19, out_qsize 0\n",
            "INFO:gensim.models.word2vec:EPOCH 1 - PROGRESS: at 42.51% examples, 183218 words/s, in_qsize 19, out_qsize 0\n",
            "INFO:gensim.models.word2vec:EPOCH 1 - PROGRESS: at 46.96% examples, 185941 words/s, in_qsize 19, out_qsize 0\n",
            "INFO:gensim.models.word2vec:EPOCH 1 - PROGRESS: at 51.38% examples, 186125 words/s, in_qsize 19, out_qsize 0\n",
            "INFO:gensim.models.word2vec:EPOCH 1 - PROGRESS: at 56.61% examples, 188155 words/s, in_qsize 19, out_qsize 0\n",
            "INFO:gensim.models.word2vec:EPOCH 1 - PROGRESS: at 61.18% examples, 189195 words/s, in_qsize 18, out_qsize 1\n",
            "INFO:gensim.models.word2vec:EPOCH 1 - PROGRESS: at 65.73% examples, 190621 words/s, in_qsize 20, out_qsize 0\n",
            "INFO:gensim.models.word2vec:EPOCH 1 - PROGRESS: at 70.09% examples, 191157 words/s, in_qsize 19, out_qsize 0\n",
            "INFO:gensim.models.word2vec:EPOCH 1 - PROGRESS: at 74.47% examples, 192021 words/s, in_qsize 19, out_qsize 0\n",
            "INFO:gensim.models.word2vec:EPOCH 1 - PROGRESS: at 78.61% examples, 192425 words/s, in_qsize 19, out_qsize 0\n",
            "INFO:gensim.models.word2vec:EPOCH 1 - PROGRESS: at 83.07% examples, 193482 words/s, in_qsize 20, out_qsize 0\n",
            "INFO:gensim.models.word2vec:EPOCH 1 - PROGRESS: at 86.86% examples, 192497 words/s, in_qsize 19, out_qsize 0\n",
            "INFO:gensim.models.word2vec:EPOCH 1 - PROGRESS: at 91.46% examples, 193845 words/s, in_qsize 20, out_qsize 0\n",
            "INFO:gensim.models.word2vec:EPOCH 1 - PROGRESS: at 95.36% examples, 193395 words/s, in_qsize 19, out_qsize 0\n",
            "INFO:gensim.models.word2vec:EPOCH 1: training on 6064847 raw words (4682783 effective words) took 23.9s, 195712 effective words/s\n",
            "INFO:gensim.models.word2vec:EPOCH 2 - PROGRESS: at 3.51% examples, 160664 words/s, in_qsize 19, out_qsize 0\n",
            "INFO:gensim.models.word2vec:EPOCH 2 - PROGRESS: at 8.29% examples, 184649 words/s, in_qsize 19, out_qsize 0\n",
            "INFO:gensim.models.word2vec:EPOCH 2 - PROGRESS: at 13.32% examples, 195489 words/s, in_qsize 19, out_qsize 0\n",
            "INFO:gensim.models.word2vec:EPOCH 2 - PROGRESS: at 18.35% examples, 200208 words/s, in_qsize 19, out_qsize 0\n",
            "INFO:gensim.models.word2vec:EPOCH 2 - PROGRESS: at 23.40% examples, 202761 words/s, in_qsize 19, out_qsize 0\n",
            "INFO:gensim.models.word2vec:EPOCH 2 - PROGRESS: at 28.36% examples, 204724 words/s, in_qsize 19, out_qsize 0\n",
            "INFO:gensim.models.word2vec:EPOCH 2 - PROGRESS: at 32.25% examples, 200603 words/s, in_qsize 19, out_qsize 0\n",
            "INFO:gensim.models.word2vec:EPOCH 2 - PROGRESS: at 36.94% examples, 201538 words/s, in_qsize 19, out_qsize 0\n",
            "INFO:gensim.models.word2vec:EPOCH 2 - PROGRESS: at 40.91% examples, 200106 words/s, in_qsize 19, out_qsize 0\n",
            "INFO:gensim.models.word2vec:EPOCH 2 - PROGRESS: at 45.06% examples, 198836 words/s, in_qsize 19, out_qsize 0\n",
            "INFO:gensim.models.word2vec:EPOCH 2 - PROGRESS: at 49.84% examples, 200180 words/s, in_qsize 19, out_qsize 0\n",
            "INFO:gensim.models.word2vec:EPOCH 2 - PROGRESS: at 54.01% examples, 198088 words/s, in_qsize 19, out_qsize 0\n",
            "INFO:gensim.models.word2vec:EPOCH 2 - PROGRESS: at 58.63% examples, 198485 words/s, in_qsize 19, out_qsize 0\n",
            "INFO:gensim.models.word2vec:EPOCH 2 - PROGRESS: at 63.29% examples, 199042 words/s, in_qsize 19, out_qsize 0\n",
            "INFO:gensim.models.word2vec:EPOCH 2 - PROGRESS: at 67.54% examples, 198911 words/s, in_qsize 19, out_qsize 0\n",
            "INFO:gensim.models.word2vec:EPOCH 2 - PROGRESS: at 72.41% examples, 200377 words/s, in_qsize 19, out_qsize 0\n",
            "INFO:gensim.models.word2vec:EPOCH 2 - PROGRESS: at 76.97% examples, 200784 words/s, in_qsize 19, out_qsize 0\n",
            "INFO:gensim.models.word2vec:EPOCH 2 - PROGRESS: at 81.82% examples, 201218 words/s, in_qsize 19, out_qsize 0\n",
            "INFO:gensim.models.word2vec:EPOCH 2 - PROGRESS: at 86.72% examples, 202200 words/s, in_qsize 19, out_qsize 0\n",
            "INFO:gensim.models.word2vec:EPOCH 2 - PROGRESS: at 91.30% examples, 202876 words/s, in_qsize 20, out_qsize 0\n",
            "INFO:gensim.models.word2vec:EPOCH 2 - PROGRESS: at 95.51% examples, 202680 words/s, in_qsize 19, out_qsize 0\n",
            "INFO:gensim.models.word2vec:EPOCH 2: training on 6064847 raw words (4682164 effective words) took 22.9s, 204052 effective words/s\n",
            "INFO:gensim.models.word2vec:EPOCH 3 - PROGRESS: at 3.34% examples, 158714 words/s, in_qsize 20, out_qsize 0\n",
            "INFO:gensim.models.word2vec:EPOCH 3 - PROGRESS: at 8.30% examples, 179202 words/s, in_qsize 19, out_qsize 0\n",
            "INFO:gensim.models.word2vec:EPOCH 3 - PROGRESS: at 13.16% examples, 189137 words/s, in_qsize 19, out_qsize 0\n",
            "INFO:gensim.models.word2vec:EPOCH 3 - PROGRESS: at 16.82% examples, 179956 words/s, in_qsize 19, out_qsize 0\n",
            "INFO:gensim.models.word2vec:EPOCH 3 - PROGRESS: at 21.49% examples, 185099 words/s, in_qsize 19, out_qsize 0\n",
            "INFO:gensim.models.word2vec:EPOCH 3 - PROGRESS: at 25.60% examples, 183710 words/s, in_qsize 20, out_qsize 0\n",
            "INFO:gensim.models.word2vec:EPOCH 3 - PROGRESS: at 30.21% examples, 185889 words/s, in_qsize 19, out_qsize 0\n",
            "INFO:gensim.models.word2vec:EPOCH 3 - PROGRESS: at 35.10% examples, 190036 words/s, in_qsize 20, out_qsize 0\n",
            "INFO:gensim.models.word2vec:EPOCH 3 - PROGRESS: at 39.30% examples, 190558 words/s, in_qsize 20, out_qsize 0\n",
            "INFO:gensim.models.word2vec:EPOCH 3 - PROGRESS: at 43.93% examples, 193499 words/s, in_qsize 19, out_qsize 0\n",
            "INFO:gensim.models.word2vec:EPOCH 3 - PROGRESS: at 48.09% examples, 192153 words/s, in_qsize 20, out_qsize 0\n",
            "INFO:gensim.models.word2vec:EPOCH 3 - PROGRESS: at 52.58% examples, 192273 words/s, in_qsize 19, out_qsize 0\n",
            "INFO:gensim.models.word2vec:EPOCH 3 - PROGRESS: at 56.61% examples, 190687 words/s, in_qsize 19, out_qsize 0\n",
            "INFO:gensim.models.word2vec:EPOCH 3 - PROGRESS: at 60.49% examples, 189617 words/s, in_qsize 19, out_qsize 0\n",
            "INFO:gensim.models.word2vec:EPOCH 3 - PROGRESS: at 64.93% examples, 188620 words/s, in_qsize 19, out_qsize 0\n",
            "INFO:gensim.models.word2vec:EPOCH 3 - PROGRESS: at 69.23% examples, 189194 words/s, in_qsize 19, out_qsize 0\n",
            "INFO:gensim.models.word2vec:EPOCH 3 - PROGRESS: at 73.17% examples, 188570 words/s, in_qsize 19, out_qsize 0\n",
            "INFO:gensim.models.word2vec:EPOCH 3 - PROGRESS: at 76.97% examples, 187933 words/s, in_qsize 19, out_qsize 0\n",
            "INFO:gensim.models.word2vec:EPOCH 3 - PROGRESS: at 81.37% examples, 188414 words/s, in_qsize 19, out_qsize 0\n",
            "INFO:gensim.models.word2vec:EPOCH 3 - PROGRESS: at 85.22% examples, 188114 words/s, in_qsize 20, out_qsize 0\n",
            "INFO:gensim.models.word2vec:EPOCH 3 - PROGRESS: at 89.42% examples, 188480 words/s, in_qsize 19, out_qsize 0\n",
            "INFO:gensim.models.word2vec:EPOCH 3 - PROGRESS: at 93.85% examples, 189378 words/s, in_qsize 19, out_qsize 0\n",
            "INFO:gensim.models.word2vec:EPOCH 3 - PROGRESS: at 98.46% examples, 190452 words/s, in_qsize 10, out_qsize 0\n",
            "INFO:gensim.models.word2vec:EPOCH 3: training on 6064847 raw words (4683678 effective words) took 24.4s, 191882 effective words/s\n",
            "INFO:gensim.models.word2vec:EPOCH 4 - PROGRESS: at 3.33% examples, 144399 words/s, in_qsize 19, out_qsize 0\n",
            "INFO:gensim.models.word2vec:EPOCH 4 - PROGRESS: at 8.45% examples, 188207 words/s, in_qsize 19, out_qsize 0\n",
            "INFO:gensim.models.word2vec:EPOCH 4 - PROGRESS: at 13.00% examples, 192987 words/s, in_qsize 19, out_qsize 0\n",
            "INFO:gensim.models.word2vec:EPOCH 4 - PROGRESS: at 17.00% examples, 190427 words/s, in_qsize 19, out_qsize 0\n",
            "INFO:gensim.models.word2vec:EPOCH 4 - PROGRESS: at 21.66% examples, 194551 words/s, in_qsize 19, out_qsize 0\n",
            "INFO:gensim.models.word2vec:EPOCH 4 - PROGRESS: at 25.59% examples, 191542 words/s, in_qsize 19, out_qsize 0\n",
            "INFO:gensim.models.word2vec:EPOCH 4 - PROGRESS: at 30.38% examples, 194064 words/s, in_qsize 20, out_qsize 0\n",
            "INFO:gensim.models.word2vec:EPOCH 4 - PROGRESS: at 34.64% examples, 193808 words/s, in_qsize 19, out_qsize 0\n",
            "INFO:gensim.models.word2vec:EPOCH 4 - PROGRESS: at 38.67% examples, 192230 words/s, in_qsize 20, out_qsize 0\n",
            "INFO:gensim.models.word2vec:EPOCH 4 - PROGRESS: at 43.31% examples, 194008 words/s, in_qsize 19, out_qsize 0\n",
            "INFO:gensim.models.word2vec:EPOCH 4 - PROGRESS: at 47.75% examples, 195586 words/s, in_qsize 20, out_qsize 0\n",
            "INFO:gensim.models.word2vec:EPOCH 4 - PROGRESS: at 52.75% examples, 197557 words/s, in_qsize 19, out_qsize 0\n",
            "INFO:gensim.models.word2vec:EPOCH 4 - PROGRESS: at 57.26% examples, 197300 words/s, in_qsize 19, out_qsize 0\n",
            "INFO:gensim.models.word2vec:EPOCH 4 - PROGRESS: at 60.82% examples, 194455 words/s, in_qsize 19, out_qsize 0\n",
            "INFO:gensim.models.word2vec:EPOCH 4 - PROGRESS: at 63.92% examples, 191266 words/s, in_qsize 19, out_qsize 0\n",
            "INFO:gensim.models.word2vec:EPOCH 4 - PROGRESS: at 68.06% examples, 190399 words/s, in_qsize 20, out_qsize 0\n",
            "INFO:gensim.models.word2vec:EPOCH 4 - PROGRESS: at 72.56% examples, 190924 words/s, in_qsize 20, out_qsize 0\n",
            "INFO:gensim.models.word2vec:EPOCH 4 - PROGRESS: at 76.50% examples, 190783 words/s, in_qsize 20, out_qsize 0\n",
            "INFO:gensim.models.word2vec:EPOCH 4 - PROGRESS: at 81.06% examples, 191981 words/s, in_qsize 19, out_qsize 0\n",
            "INFO:gensim.models.word2vec:EPOCH 4 - PROGRESS: at 84.91% examples, 191527 words/s, in_qsize 19, out_qsize 0\n",
            "INFO:gensim.models.word2vec:EPOCH 4 - PROGRESS: at 88.91% examples, 191486 words/s, in_qsize 19, out_qsize 0\n",
            "INFO:gensim.models.word2vec:EPOCH 4 - PROGRESS: at 93.35% examples, 192566 words/s, in_qsize 19, out_qsize 0\n",
            "INFO:gensim.models.word2vec:EPOCH 4 - PROGRESS: at 97.33% examples, 192582 words/s, in_qsize 17, out_qsize 0\n",
            "INFO:gensim.models.word2vec:EPOCH 4: training on 6064847 raw words (4683395 effective words) took 24.1s, 194070 effective words/s\n",
            "INFO:gensim.models.word2vec:EPOCH 5 - PROGRESS: at 3.34% examples, 150971 words/s, in_qsize 20, out_qsize 0\n",
            "INFO:gensim.models.word2vec:EPOCH 5 - PROGRESS: at 8.29% examples, 176750 words/s, in_qsize 20, out_qsize 0\n",
            "INFO:gensim.models.word2vec:EPOCH 5 - PROGRESS: at 13.32% examples, 187826 words/s, in_qsize 19, out_qsize 0\n",
            "INFO:gensim.models.word2vec:EPOCH 5 - PROGRESS: at 18.35% examples, 196282 words/s, in_qsize 19, out_qsize 0\n",
            "INFO:gensim.models.word2vec:EPOCH 5 - PROGRESS: at 23.40% examples, 198291 words/s, in_qsize 19, out_qsize 0\n",
            "INFO:gensim.models.word2vec:EPOCH 5 - PROGRESS: at 27.48% examples, 195924 words/s, in_qsize 19, out_qsize 0\n",
            "INFO:gensim.models.word2vec:EPOCH 5 - PROGRESS: at 31.92% examples, 195722 words/s, in_qsize 19, out_qsize 0\n",
            "INFO:gensim.models.word2vec:EPOCH 5 - PROGRESS: at 35.77% examples, 193439 words/s, in_qsize 20, out_qsize 0\n",
            "INFO:gensim.models.word2vec:EPOCH 5 - PROGRESS: at 40.28% examples, 195666 words/s, in_qsize 19, out_qsize 0\n",
            "INFO:gensim.models.word2vec:EPOCH 5 - PROGRESS: at 44.55% examples, 196700 words/s, in_qsize 20, out_qsize 0\n",
            "INFO:gensim.models.word2vec:EPOCH 5 - PROGRESS: at 48.61% examples, 195739 words/s, in_qsize 20, out_qsize 0\n",
            "INFO:gensim.models.word2vec:EPOCH 5 - PROGRESS: at 53.10% examples, 195875 words/s, in_qsize 19, out_qsize 0\n",
            "INFO:gensim.models.word2vec:EPOCH 5 - PROGRESS: at 57.60% examples, 195726 words/s, in_qsize 19, out_qsize 0\n",
            "INFO:gensim.models.word2vec:EPOCH 5 - PROGRESS: at 62.16% examples, 195553 words/s, in_qsize 19, out_qsize 0\n",
            "INFO:gensim.models.word2vec:EPOCH 5 - PROGRESS: at 66.52% examples, 196028 words/s, in_qsize 19, out_qsize 0\n",
            "INFO:gensim.models.word2vec:EPOCH 5 - PROGRESS: at 71.11% examples, 196707 words/s, in_qsize 19, out_qsize 0\n",
            "INFO:gensim.models.word2vec:EPOCH 5 - PROGRESS: at 74.96% examples, 195840 words/s, in_qsize 19, out_qsize 0\n",
            "INFO:gensim.models.word2vec:EPOCH 5 - PROGRESS: at 79.66% examples, 195909 words/s, in_qsize 19, out_qsize 0\n",
            "INFO:gensim.models.word2vec:EPOCH 5 - PROGRESS: at 84.41% examples, 196995 words/s, in_qsize 19, out_qsize 0\n",
            "INFO:gensim.models.word2vec:EPOCH 5 - PROGRESS: at 88.74% examples, 197297 words/s, in_qsize 19, out_qsize 0\n",
            "INFO:gensim.models.word2vec:EPOCH 5 - PROGRESS: at 93.02% examples, 197716 words/s, in_qsize 19, out_qsize 0\n",
            "INFO:gensim.models.word2vec:EPOCH 5 - PROGRESS: at 97.18% examples, 197569 words/s, in_qsize 17, out_qsize 1\n",
            "INFO:gensim.models.word2vec:EPOCH 5: training on 6064847 raw words (4683517 effective words) took 23.4s, 199988 effective words/s\n",
            "INFO:gensim.models.word2vec:EPOCH 6 - PROGRESS: at 3.34% examples, 154609 words/s, in_qsize 19, out_qsize 0\n",
            "INFO:gensim.models.word2vec:EPOCH 6 - PROGRESS: at 8.29% examples, 186145 words/s, in_qsize 19, out_qsize 0\n",
            "INFO:gensim.models.word2vec:EPOCH 6 - PROGRESS: at 13.32% examples, 196793 words/s, in_qsize 19, out_qsize 0\n",
            "INFO:gensim.models.word2vec:EPOCH 6 - PROGRESS: at 17.13% examples, 192056 words/s, in_qsize 19, out_qsize 0\n",
            "INFO:gensim.models.word2vec:EPOCH 6 - PROGRESS: at 21.66% examples, 193406 words/s, in_qsize 19, out_qsize 0\n",
            "INFO:gensim.models.word2vec:EPOCH 6 - PROGRESS: at 25.94% examples, 192836 words/s, in_qsize 19, out_qsize 0\n",
            "INFO:gensim.models.word2vec:EPOCH 6 - PROGRESS: at 30.38% examples, 191405 words/s, in_qsize 19, out_qsize 0\n",
            "INFO:gensim.models.word2vec:EPOCH 6 - PROGRESS: at 35.44% examples, 194143 words/s, in_qsize 19, out_qsize 0\n",
            "INFO:gensim.models.word2vec:EPOCH 6 - PROGRESS: at 40.30% examples, 196723 words/s, in_qsize 19, out_qsize 0\n",
            "INFO:gensim.models.word2vec:EPOCH 6 - PROGRESS: at 45.06% examples, 198276 words/s, in_qsize 19, out_qsize 0\n",
            "INFO:gensim.models.word2vec:EPOCH 6 - PROGRESS: at 49.84% examples, 199941 words/s, in_qsize 19, out_qsize 0\n",
            "INFO:gensim.models.word2vec:EPOCH 6 - PROGRESS: at 53.63% examples, 197405 words/s, in_qsize 19, out_qsize 0\n",
            "INFO:gensim.models.word2vec:EPOCH 6 - PROGRESS: at 58.47% examples, 198199 words/s, in_qsize 19, out_qsize 0\n",
            "INFO:gensim.models.word2vec:EPOCH 6 - PROGRESS: at 63.44% examples, 198943 words/s, in_qsize 20, out_qsize 0\n",
            "INFO:gensim.models.word2vec:EPOCH 6 - PROGRESS: at 67.71% examples, 198954 words/s, in_qsize 19, out_qsize 0\n",
            "INFO:gensim.models.word2vec:EPOCH 6 - PROGRESS: at 71.60% examples, 197610 words/s, in_qsize 19, out_qsize 0\n",
            "INFO:gensim.models.word2vec:EPOCH 6 - PROGRESS: at 75.87% examples, 198138 words/s, in_qsize 19, out_qsize 0\n",
            "INFO:gensim.models.word2vec:EPOCH 6 - PROGRESS: at 79.66% examples, 196803 words/s, in_qsize 19, out_qsize 0\n",
            "INFO:gensim.models.word2vec:EPOCH 6 - PROGRESS: at 83.89% examples, 197135 words/s, in_qsize 19, out_qsize 0\n",
            "INFO:gensim.models.word2vec:EPOCH 6 - PROGRESS: at 87.91% examples, 196792 words/s, in_qsize 19, out_qsize 0\n",
            "INFO:gensim.models.word2vec:EPOCH 6 - PROGRESS: at 92.24% examples, 197036 words/s, in_qsize 19, out_qsize 0\n",
            "INFO:gensim.models.word2vec:EPOCH 6 - PROGRESS: at 97.03% examples, 197915 words/s, in_qsize 19, out_qsize 0\n",
            "INFO:gensim.models.word2vec:EPOCH 6: training on 6064847 raw words (4682038 effective words) took 23.4s, 200288 effective words/s\n",
            "INFO:gensim.models.word2vec:EPOCH 7 - PROGRESS: at 3.33% examples, 154977 words/s, in_qsize 17, out_qsize 2\n",
            "INFO:gensim.models.word2vec:EPOCH 7 - PROGRESS: at 8.30% examples, 183028 words/s, in_qsize 19, out_qsize 0\n",
            "INFO:gensim.models.word2vec:EPOCH 7 - PROGRESS: at 13.32% examples, 191122 words/s, in_qsize 19, out_qsize 0\n",
            "INFO:gensim.models.word2vec:EPOCH 7 - PROGRESS: at 18.18% examples, 195283 words/s, in_qsize 19, out_qsize 0\n",
            "INFO:gensim.models.word2vec:EPOCH 7 - PROGRESS: at 22.36% examples, 194090 words/s, in_qsize 19, out_qsize 0\n",
            "INFO:gensim.models.word2vec:EPOCH 7 - PROGRESS: at 26.78% examples, 194288 words/s, in_qsize 19, out_qsize 0\n",
            "INFO:gensim.models.word2vec:EPOCH 7 - PROGRESS: at 31.44% examples, 195996 words/s, in_qsize 19, out_qsize 0\n",
            "INFO:gensim.models.word2vec:EPOCH 7 - PROGRESS: at 35.26% examples, 193665 words/s, in_qsize 19, out_qsize 0\n",
            "INFO:gensim.models.word2vec:EPOCH 7 - PROGRESS: at 39.96% examples, 196146 words/s, in_qsize 19, out_qsize 0\n",
            "INFO:gensim.models.word2vec:EPOCH 7 - PROGRESS: at 44.24% examples, 197095 words/s, in_qsize 20, out_qsize 0\n",
            "INFO:gensim.models.word2vec:EPOCH 7 - PROGRESS: at 48.43% examples, 196585 words/s, in_qsize 19, out_qsize 0\n",
            "INFO:gensim.models.word2vec:EPOCH 7 - PROGRESS: at 52.92% examples, 196184 words/s, in_qsize 19, out_qsize 0\n",
            "INFO:gensim.models.word2vec:EPOCH 7 - PROGRESS: at 57.79% examples, 197204 words/s, in_qsize 19, out_qsize 0\n",
            "INFO:gensim.models.word2vec:EPOCH 7 - PROGRESS: at 62.33% examples, 197673 words/s, in_qsize 19, out_qsize 0\n",
            "INFO:gensim.models.word2vec:EPOCH 7 - PROGRESS: at 66.86% examples, 198727 words/s, in_qsize 19, out_qsize 0\n",
            "INFO:gensim.models.word2vec:EPOCH 7 - PROGRESS: at 71.44% examples, 198949 words/s, in_qsize 19, out_qsize 0\n",
            "INFO:gensim.models.word2vec:EPOCH 7 - PROGRESS: at 75.57% examples, 198897 words/s, in_qsize 19, out_qsize 0\n",
            "INFO:gensim.models.word2vec:EPOCH 7 - PROGRESS: at 80.45% examples, 200438 words/s, in_qsize 19, out_qsize 0\n",
            "INFO:gensim.models.word2vec:EPOCH 7 - PROGRESS: at 84.91% examples, 200794 words/s, in_qsize 20, out_qsize 0\n",
            "INFO:gensim.models.word2vec:EPOCH 7 - PROGRESS: at 88.75% examples, 199714 words/s, in_qsize 19, out_qsize 0\n",
            "INFO:gensim.models.word2vec:EPOCH 7 - PROGRESS: at 93.35% examples, 200156 words/s, in_qsize 19, out_qsize 0\n",
            "INFO:gensim.models.word2vec:EPOCH 7 - PROGRESS: at 97.98% examples, 200489 words/s, in_qsize 13, out_qsize 0\n",
            "INFO:gensim.models.word2vec:EPOCH 7: training on 6064847 raw words (4683809 effective words) took 23.1s, 202888 effective words/s\n",
            "INFO:gensim.models.word2vec:EPOCH 8 - PROGRESS: at 3.34% examples, 152909 words/s, in_qsize 20, out_qsize 0\n",
            "INFO:gensim.models.word2vec:EPOCH 8 - PROGRESS: at 8.30% examples, 185807 words/s, in_qsize 19, out_qsize 0\n",
            "INFO:gensim.models.word2vec:EPOCH 8 - PROGRESS: at 13.32% examples, 189384 words/s, in_qsize 20, out_qsize 0\n",
            "INFO:gensim.models.word2vec:EPOCH 8 - PROGRESS: at 18.35% examples, 195589 words/s, in_qsize 19, out_qsize 0\n",
            "INFO:gensim.models.word2vec:EPOCH 8 - PROGRESS: at 23.40% examples, 198976 words/s, in_qsize 19, out_qsize 0\n",
            "INFO:gensim.models.word2vec:EPOCH 8 - PROGRESS: at 28.51% examples, 201677 words/s, in_qsize 19, out_qsize 0\n",
            "INFO:gensim.models.word2vec:EPOCH 8 - PROGRESS: at 33.61% examples, 203011 words/s, in_qsize 19, out_qsize 0\n",
            "INFO:gensim.models.word2vec:EPOCH 8 - PROGRESS: at 37.44% examples, 197524 words/s, in_qsize 19, out_qsize 0\n",
            "INFO:gensim.models.word2vec:EPOCH 8 - PROGRESS: at 40.60% examples, 192698 words/s, in_qsize 19, out_qsize 0\n",
            "INFO:gensim.models.word2vec:EPOCH 8 - PROGRESS: at 45.06% examples, 194673 words/s, in_qsize 20, out_qsize 0\n",
            "INFO:gensim.models.word2vec:EPOCH 8 - PROGRESS: at 49.31% examples, 194612 words/s, in_qsize 20, out_qsize 0\n",
            "INFO:gensim.models.word2vec:EPOCH 8 - PROGRESS: at 53.65% examples, 194247 words/s, in_qsize 19, out_qsize 0\n",
            "INFO:gensim.models.word2vec:EPOCH 8 - PROGRESS: at 58.63% examples, 195777 words/s, in_qsize 19, out_qsize 0\n",
            "INFO:gensim.models.word2vec:EPOCH 8 - PROGRESS: at 62.83% examples, 195399 words/s, in_qsize 19, out_qsize 0\n",
            "INFO:gensim.models.word2vec:EPOCH 8 - PROGRESS: at 67.03% examples, 195586 words/s, in_qsize 19, out_qsize 0\n",
            "INFO:gensim.models.word2vec:EPOCH 8 - PROGRESS: at 71.27% examples, 194734 words/s, in_qsize 19, out_qsize 0\n",
            "INFO:gensim.models.word2vec:EPOCH 8 - PROGRESS: at 75.73% examples, 195878 words/s, in_qsize 19, out_qsize 0\n",
            "INFO:gensim.models.word2vec:EPOCH 8 - PROGRESS: at 80.30% examples, 196916 words/s, in_qsize 19, out_qsize 0\n",
            "INFO:gensim.models.word2vec:EPOCH 8 - PROGRESS: at 84.58% examples, 197304 words/s, in_qsize 19, out_qsize 0\n",
            "INFO:gensim.models.word2vec:EPOCH 8 - PROGRESS: at 89.07% examples, 198043 words/s, in_qsize 19, out_qsize 0\n",
            "INFO:gensim.models.word2vec:EPOCH 8 - PROGRESS: at 93.51% examples, 198689 words/s, in_qsize 19, out_qsize 0\n",
            "INFO:gensim.models.word2vec:EPOCH 8 - PROGRESS: at 98.00% examples, 199281 words/s, in_qsize 13, out_qsize 0\n",
            "INFO:gensim.models.word2vec:EPOCH 8: training on 6064847 raw words (4682682 effective words) took 23.3s, 200643 effective words/s\n",
            "INFO:gensim.models.word2vec:EPOCH 9 - PROGRESS: at 3.34% examples, 152869 words/s, in_qsize 19, out_qsize 0\n",
            "INFO:gensim.models.word2vec:EPOCH 9 - PROGRESS: at 8.29% examples, 178545 words/s, in_qsize 19, out_qsize 0\n",
            "INFO:gensim.models.word2vec:EPOCH 9 - PROGRESS: at 13.32% examples, 188761 words/s, in_qsize 19, out_qsize 0\n",
            "INFO:gensim.models.word2vec:EPOCH 9 - PROGRESS: at 18.01% examples, 195037 words/s, in_qsize 19, out_qsize 0\n",
            "INFO:gensim.models.word2vec:EPOCH 9 - PROGRESS: at 21.84% examples, 190323 words/s, in_qsize 19, out_qsize 0\n",
            "INFO:gensim.models.word2vec:EPOCH 9 - PROGRESS: at 26.26% examples, 191224 words/s, in_qsize 20, out_qsize 0\n",
            "INFO:gensim.models.word2vec:EPOCH 9 - PROGRESS: at 30.55% examples, 190479 words/s, in_qsize 19, out_qsize 0\n",
            "INFO:gensim.models.word2vec:EPOCH 9 - PROGRESS: at 35.26% examples, 193348 words/s, in_qsize 19, out_qsize 0\n",
            "INFO:gensim.models.word2vec:EPOCH 9 - PROGRESS: at 39.96% examples, 196141 words/s, in_qsize 19, out_qsize 0\n",
            "INFO:gensim.models.word2vec:EPOCH 9 - PROGRESS: at 44.24% examples, 197160 words/s, in_qsize 19, out_qsize 0\n",
            "INFO:gensim.models.word2vec:EPOCH 9 - PROGRESS: at 48.61% examples, 197244 words/s, in_qsize 20, out_qsize 0\n",
            "INFO:gensim.models.word2vec:EPOCH 9 - PROGRESS: at 53.47% examples, 198275 words/s, in_qsize 19, out_qsize 0\n",
            "INFO:gensim.models.word2vec:EPOCH 9 - PROGRESS: at 58.46% examples, 199570 words/s, in_qsize 19, out_qsize 0\n",
            "INFO:gensim.models.word2vec:EPOCH 9 - PROGRESS: at 63.14% examples, 200355 words/s, in_qsize 19, out_qsize 0\n",
            "INFO:gensim.models.word2vec:EPOCH 9 - PROGRESS: at 67.20% examples, 199788 words/s, in_qsize 19, out_qsize 0\n",
            "INFO:gensim.models.word2vec:EPOCH 9 - PROGRESS: at 71.93% examples, 199925 words/s, in_qsize 19, out_qsize 0\n",
            "INFO:gensim.models.word2vec:EPOCH 9 - PROGRESS: at 76.34% examples, 200658 words/s, in_qsize 19, out_qsize 0\n",
            "INFO:gensim.models.word2vec:EPOCH 9 - PROGRESS: at 80.45% examples, 200225 words/s, in_qsize 19, out_qsize 0\n",
            "INFO:gensim.models.word2vec:EPOCH 9 - PROGRESS: at 85.08% examples, 201050 words/s, in_qsize 19, out_qsize 0\n",
            "INFO:gensim.models.word2vec:EPOCH 9 - PROGRESS: at 89.40% examples, 200892 words/s, in_qsize 20, out_qsize 0\n",
            "INFO:gensim.models.word2vec:EPOCH 9 - PROGRESS: at 94.02% examples, 201864 words/s, in_qsize 20, out_qsize 0\n",
            "INFO:gensim.models.word2vec:EPOCH 9 - PROGRESS: at 98.62% examples, 202742 words/s, in_qsize 9, out_qsize 1\n",
            "INFO:gensim.models.word2vec:EPOCH 9: training on 6064847 raw words (4683262 effective words) took 23.0s, 203901 effective words/s\n",
            "INFO:gensim.utils:Doc2Vec lifecycle event {'msg': 'training on 60648470 raw words (46831212 effective words) took 237.9s, 196870 effective words/s', 'datetime': '2023-05-02T15:45:24.903867', 'gensim': '4.3.1', 'python': '3.10.11 (main, Apr  5 2023, 14:15:10) [GCC 9.4.0]', 'platform': 'Linux-5.10.147+-x86_64-with-glibc2.31', 'event': 'train'}\n",
            "INFO:gensim.utils:Doc2Vec lifecycle event {'params': 'Doc2Vec<dm/m,d5,n5,w2,s0.001,t10>', 'datetime': '2023-05-02T15:45:24.910006', 'gensim': '4.3.1', 'python': '3.10.11 (main, Apr  5 2023, 14:15:10) [GCC 9.4.0]', 'platform': 'Linux-5.10.147+-x86_64-with-glibc2.31', 'event': 'created'}\n"
          ]
        }
      ]
    },
    {
      "cell_type": "code",
      "source": [
        "model.save(\"D2V.model\")\n",
        "vectors = []\n",
        "for x in documents:\n",
        "    vec = list(model[x.tags][0])\n",
        "    vectors.append(vec)\n",
        "    \n",
        "split_df = pd.DataFrame(vectors,\n",
        "                        columns=['v1', 'v2', 'v3','v4',\"v5\"])\n",
        "\n",
        "split_df"
      ],
      "metadata": {
        "colab": {
          "base_uri": "https://localhost:8080/",
          "height": 495
        },
        "id": "PngCjMMzWngL",
        "outputId": "336a816e-ea6f-40a0-d6a2-aa15bb5f4f1b"
      },
      "execution_count": 9,
      "outputs": [
        {
          "output_type": "stream",
          "name": "stderr",
          "text": [
            "INFO:gensim.utils:Doc2Vec lifecycle event {'fname_or_handle': 'D2V.model', 'separately': 'None', 'sep_limit': 10485760, 'ignore': frozenset(), 'datetime': '2023-05-02T15:45:24.927505', 'gensim': '4.3.1', 'python': '3.10.11 (main, Apr  5 2023, 14:15:10) [GCC 9.4.0]', 'platform': 'Linux-5.10.147+-x86_64-with-glibc2.31', 'event': 'saving'}\n",
            "INFO:gensim.utils:not storing attribute cum_table\n",
            "INFO:gensim.utils:saved D2V.model\n"
          ]
        },
        {
          "output_type": "execute_result",
          "data": {
            "text/plain": [
              "              v1        v2        v3        v4        v5\n",
              "0      -0.440964  1.461129  2.680638  3.964068 -0.474201\n",
              "1      -1.289654 -0.315715  2.801712  0.178435  0.567614\n",
              "2      -2.074534  1.567887  1.951514  0.969400  0.680591\n",
              "3       1.043519  0.870509  0.971636  1.164158 -1.792254\n",
              "4      -1.102477  1.890195  1.752979  2.500378  0.055289\n",
              "...          ...       ...       ...       ...       ...\n",
              "150925  0.225489  0.255020  0.091634 -0.246791 -0.363258\n",
              "150926  0.119004  0.194472  0.448898 -0.148070 -0.080707\n",
              "150927  0.182077  0.383304  0.043032 -0.413999 -0.243680\n",
              "150928  0.188177  0.314050  0.112689  0.052918 -0.170548\n",
              "150929  0.110351  0.493000  0.115242 -0.441213 -0.180354\n",
              "\n",
              "[150930 rows x 5 columns]"
            ],
            "text/html": [
              "\n",
              "  <div id=\"df-d6f6dfd1-5b8b-4b4b-9770-53469cd756f7\">\n",
              "    <div class=\"colab-df-container\">\n",
              "      <div>\n",
              "<style scoped>\n",
              "    .dataframe tbody tr th:only-of-type {\n",
              "        vertical-align: middle;\n",
              "    }\n",
              "\n",
              "    .dataframe tbody tr th {\n",
              "        vertical-align: top;\n",
              "    }\n",
              "\n",
              "    .dataframe thead th {\n",
              "        text-align: right;\n",
              "    }\n",
              "</style>\n",
              "<table border=\"1\" class=\"dataframe\">\n",
              "  <thead>\n",
              "    <tr style=\"text-align: right;\">\n",
              "      <th></th>\n",
              "      <th>v1</th>\n",
              "      <th>v2</th>\n",
              "      <th>v3</th>\n",
              "      <th>v4</th>\n",
              "      <th>v5</th>\n",
              "    </tr>\n",
              "  </thead>\n",
              "  <tbody>\n",
              "    <tr>\n",
              "      <th>0</th>\n",
              "      <td>-0.440964</td>\n",
              "      <td>1.461129</td>\n",
              "      <td>2.680638</td>\n",
              "      <td>3.964068</td>\n",
              "      <td>-0.474201</td>\n",
              "    </tr>\n",
              "    <tr>\n",
              "      <th>1</th>\n",
              "      <td>-1.289654</td>\n",
              "      <td>-0.315715</td>\n",
              "      <td>2.801712</td>\n",
              "      <td>0.178435</td>\n",
              "      <td>0.567614</td>\n",
              "    </tr>\n",
              "    <tr>\n",
              "      <th>2</th>\n",
              "      <td>-2.074534</td>\n",
              "      <td>1.567887</td>\n",
              "      <td>1.951514</td>\n",
              "      <td>0.969400</td>\n",
              "      <td>0.680591</td>\n",
              "    </tr>\n",
              "    <tr>\n",
              "      <th>3</th>\n",
              "      <td>1.043519</td>\n",
              "      <td>0.870509</td>\n",
              "      <td>0.971636</td>\n",
              "      <td>1.164158</td>\n",
              "      <td>-1.792254</td>\n",
              "    </tr>\n",
              "    <tr>\n",
              "      <th>4</th>\n",
              "      <td>-1.102477</td>\n",
              "      <td>1.890195</td>\n",
              "      <td>1.752979</td>\n",
              "      <td>2.500378</td>\n",
              "      <td>0.055289</td>\n",
              "    </tr>\n",
              "    <tr>\n",
              "      <th>...</th>\n",
              "      <td>...</td>\n",
              "      <td>...</td>\n",
              "      <td>...</td>\n",
              "      <td>...</td>\n",
              "      <td>...</td>\n",
              "    </tr>\n",
              "    <tr>\n",
              "      <th>150925</th>\n",
              "      <td>0.225489</td>\n",
              "      <td>0.255020</td>\n",
              "      <td>0.091634</td>\n",
              "      <td>-0.246791</td>\n",
              "      <td>-0.363258</td>\n",
              "    </tr>\n",
              "    <tr>\n",
              "      <th>150926</th>\n",
              "      <td>0.119004</td>\n",
              "      <td>0.194472</td>\n",
              "      <td>0.448898</td>\n",
              "      <td>-0.148070</td>\n",
              "      <td>-0.080707</td>\n",
              "    </tr>\n",
              "    <tr>\n",
              "      <th>150927</th>\n",
              "      <td>0.182077</td>\n",
              "      <td>0.383304</td>\n",
              "      <td>0.043032</td>\n",
              "      <td>-0.413999</td>\n",
              "      <td>-0.243680</td>\n",
              "    </tr>\n",
              "    <tr>\n",
              "      <th>150928</th>\n",
              "      <td>0.188177</td>\n",
              "      <td>0.314050</td>\n",
              "      <td>0.112689</td>\n",
              "      <td>0.052918</td>\n",
              "      <td>-0.170548</td>\n",
              "    </tr>\n",
              "    <tr>\n",
              "      <th>150929</th>\n",
              "      <td>0.110351</td>\n",
              "      <td>0.493000</td>\n",
              "      <td>0.115242</td>\n",
              "      <td>-0.441213</td>\n",
              "      <td>-0.180354</td>\n",
              "    </tr>\n",
              "  </tbody>\n",
              "</table>\n",
              "<p>150930 rows × 5 columns</p>\n",
              "</div>\n",
              "      <button class=\"colab-df-convert\" onclick=\"convertToInteractive('df-d6f6dfd1-5b8b-4b4b-9770-53469cd756f7')\"\n",
              "              title=\"Convert this dataframe to an interactive table.\"\n",
              "              style=\"display:none;\">\n",
              "        \n",
              "  <svg xmlns=\"http://www.w3.org/2000/svg\" height=\"24px\"viewBox=\"0 0 24 24\"\n",
              "       width=\"24px\">\n",
              "    <path d=\"M0 0h24v24H0V0z\" fill=\"none\"/>\n",
              "    <path d=\"M18.56 5.44l.94 2.06.94-2.06 2.06-.94-2.06-.94-.94-2.06-.94 2.06-2.06.94zm-11 1L8.5 8.5l.94-2.06 2.06-.94-2.06-.94L8.5 2.5l-.94 2.06-2.06.94zm10 10l.94 2.06.94-2.06 2.06-.94-2.06-.94-.94-2.06-.94 2.06-2.06.94z\"/><path d=\"M17.41 7.96l-1.37-1.37c-.4-.4-.92-.59-1.43-.59-.52 0-1.04.2-1.43.59L10.3 9.45l-7.72 7.72c-.78.78-.78 2.05 0 2.83L4 21.41c.39.39.9.59 1.41.59.51 0 1.02-.2 1.41-.59l7.78-7.78 2.81-2.81c.8-.78.8-2.07 0-2.86zM5.41 20L4 18.59l7.72-7.72 1.47 1.35L5.41 20z\"/>\n",
              "  </svg>\n",
              "      </button>\n",
              "      \n",
              "  <style>\n",
              "    .colab-df-container {\n",
              "      display:flex;\n",
              "      flex-wrap:wrap;\n",
              "      gap: 12px;\n",
              "    }\n",
              "\n",
              "    .colab-df-convert {\n",
              "      background-color: #E8F0FE;\n",
              "      border: none;\n",
              "      border-radius: 50%;\n",
              "      cursor: pointer;\n",
              "      display: none;\n",
              "      fill: #1967D2;\n",
              "      height: 32px;\n",
              "      padding: 0 0 0 0;\n",
              "      width: 32px;\n",
              "    }\n",
              "\n",
              "    .colab-df-convert:hover {\n",
              "      background-color: #E2EBFA;\n",
              "      box-shadow: 0px 1px 2px rgba(60, 64, 67, 0.3), 0px 1px 3px 1px rgba(60, 64, 67, 0.15);\n",
              "      fill: #174EA6;\n",
              "    }\n",
              "\n",
              "    [theme=dark] .colab-df-convert {\n",
              "      background-color: #3B4455;\n",
              "      fill: #D2E3FC;\n",
              "    }\n",
              "\n",
              "    [theme=dark] .colab-df-convert:hover {\n",
              "      background-color: #434B5C;\n",
              "      box-shadow: 0px 1px 3px 1px rgba(0, 0, 0, 0.15);\n",
              "      filter: drop-shadow(0px 1px 2px rgba(0, 0, 0, 0.3));\n",
              "      fill: #FFFFFF;\n",
              "    }\n",
              "  </style>\n",
              "\n",
              "      <script>\n",
              "        const buttonEl =\n",
              "          document.querySelector('#df-d6f6dfd1-5b8b-4b4b-9770-53469cd756f7 button.colab-df-convert');\n",
              "        buttonEl.style.display =\n",
              "          google.colab.kernel.accessAllowed ? 'block' : 'none';\n",
              "\n",
              "        async function convertToInteractive(key) {\n",
              "          const element = document.querySelector('#df-d6f6dfd1-5b8b-4b4b-9770-53469cd756f7');\n",
              "          const dataTable =\n",
              "            await google.colab.kernel.invokeFunction('convertToInteractive',\n",
              "                                                     [key], {});\n",
              "          if (!dataTable) return;\n",
              "\n",
              "          const docLinkHtml = 'Like what you see? Visit the ' +\n",
              "            '<a target=\"_blank\" href=https://colab.research.google.com/notebooks/data_table.ipynb>data table notebook</a>'\n",
              "            + ' to learn more about interactive tables.';\n",
              "          element.innerHTML = '';\n",
              "          dataTable['output_type'] = 'display_data';\n",
              "          await google.colab.output.renderOutput(dataTable, element);\n",
              "          const docLink = document.createElement('div');\n",
              "          docLink.innerHTML = docLinkHtml;\n",
              "          element.appendChild(docLink);\n",
              "        }\n",
              "      </script>\n",
              "    </div>\n",
              "  </div>\n",
              "  "
            ]
          },
          "metadata": {},
          "execution_count": 9
        }
      ]
    },
    {
      "cell_type": "code",
      "source": [
        "data_1 = df_source.join(split_df, how = 'left')\n",
        "data_1.shape"
      ],
      "metadata": {
        "colab": {
          "base_uri": "https://localhost:8080/"
        },
        "id": "UbW-sVGdYJCe",
        "outputId": "e1d3200b-1346-40a8-d524-f0dc069271a0"
      },
      "execution_count": 10,
      "outputs": [
        {
          "output_type": "execute_result",
          "data": {
            "text/plain": [
              "(150930, 16)"
            ]
          },
          "metadata": {},
          "execution_count": 10
        }
      ]
    },
    {
      "cell_type": "code",
      "source": [
        "data_1"
      ],
      "metadata": {
        "colab": {
          "base_uri": "https://localhost:8080/",
          "height": 953
        },
        "id": "aHBChUwiYa0r",
        "outputId": "d42dffd6-ca62-4f2b-c0a0-7e7ecdb120f6"
      },
      "execution_count": 11,
      "outputs": [
        {
          "output_type": "execute_result",
          "data": {
            "text/plain": [
              "        Unnamed: 0 country                                        description  \\\n",
              "0                0      US  [this, tremendous, 100%, varietal, wine, hails...   \n",
              "1                1   Spain  [ripe, aromas, of, fig,, blackberry, and, cass...   \n",
              "2                2      US  [mac, watson, honors, the, memory, of, a, wine...   \n",
              "3                3      US  [this, spent, 20, months, in, 30%, new, french...   \n",
              "4                4  France  [this, is, the, top, wine, from, la, bégude,, ...   \n",
              "...            ...     ...                                                ...   \n",
              "150925      150925   Italy  [many, people, feel, fiano, represents, southe...   \n",
              "150926      150926  France  [offers, an, intriguing, nose, with, ginger,, ...   \n",
              "150927      150927   Italy  [this, classic, example, comes, from, a, cru, ...   \n",
              "150928      150928  France  [a, perfect, salmon, shade,, with, scents, of,...   \n",
              "150929      150929   Italy  [more, pinot, grigios, should, taste, like, th...   \n",
              "\n",
              "                                 designation  points  price  \\\n",
              "0                          Martha's Vineyard      96  235.0   \n",
              "1       Carodorum Selección Especial Reserva      96  110.0   \n",
              "2              Special Selected Late Harvest      96   90.0   \n",
              "3                                    Reserve      96   65.0   \n",
              "4                                 La Brûlade      95   66.0   \n",
              "...                                      ...     ...    ...   \n",
              "150925                                   NaN      91   20.0   \n",
              "150926                        Cuvée Prestige      91   27.0   \n",
              "150927                         Terre di Dora      91   20.0   \n",
              "150928                       Grand Brut Rosé      90   52.0   \n",
              "150929                                   NaN      90   15.0   \n",
              "\n",
              "                  province           region_1           region_2  \\\n",
              "0               California        Napa Valley               Napa   \n",
              "1           Northern Spain               Toro                NaN   \n",
              "2               California     Knights Valley             Sonoma   \n",
              "3                   Oregon  Willamette Valley  Willamette Valley   \n",
              "4                 Provence             Bandol                NaN   \n",
              "...                    ...                ...                ...   \n",
              "150925      Southern Italy  Fiano di Avellino                NaN   \n",
              "150926           Champagne          Champagne                NaN   \n",
              "150927      Southern Italy  Fiano di Avellino                NaN   \n",
              "150928           Champagne          Champagne                NaN   \n",
              "150929  Northeastern Italy         Alto Adige                NaN   \n",
              "\n",
              "                   variety                   winery        v1        v2  \\\n",
              "0       Cabernet Sauvignon                    Heitz -0.440964  1.461129   \n",
              "1            Tinta de Toro  Bodega Carmen Rodríguez -1.289654 -0.315715   \n",
              "2          Sauvignon Blanc                 Macauley -2.074534  1.567887   \n",
              "3               Pinot Noir                    Ponzi  1.043519  0.870509   \n",
              "4       Provence red blend     Domaine de la Bégude -1.102477  1.890195   \n",
              "...                    ...                      ...       ...       ...   \n",
              "150925         White Blend    Feudi di San Gregorio  0.225489  0.255020   \n",
              "150926     Champagne Blend                H.Germain  0.119004  0.194472   \n",
              "150927         White Blend                Terredora  0.182077  0.383304   \n",
              "150928     Champagne Blend                   Gosset  0.188177  0.314050   \n",
              "150929        Pinot Grigio            Alois Lageder  0.110351  0.493000   \n",
              "\n",
              "              v3        v4        v5  \n",
              "0       2.680638  3.964068 -0.474201  \n",
              "1       2.801712  0.178435  0.567614  \n",
              "2       1.951514  0.969400  0.680591  \n",
              "3       0.971636  1.164158 -1.792254  \n",
              "4       1.752979  2.500378  0.055289  \n",
              "...          ...       ...       ...  \n",
              "150925  0.091634 -0.246791 -0.363258  \n",
              "150926  0.448898 -0.148070 -0.080707  \n",
              "150927  0.043032 -0.413999 -0.243680  \n",
              "150928  0.112689  0.052918 -0.170548  \n",
              "150929  0.115242 -0.441213 -0.180354  \n",
              "\n",
              "[150930 rows x 16 columns]"
            ],
            "text/html": [
              "\n",
              "  <div id=\"df-42b8ce1b-fe58-4905-9c16-780bd98d760e\">\n",
              "    <div class=\"colab-df-container\">\n",
              "      <div>\n",
              "<style scoped>\n",
              "    .dataframe tbody tr th:only-of-type {\n",
              "        vertical-align: middle;\n",
              "    }\n",
              "\n",
              "    .dataframe tbody tr th {\n",
              "        vertical-align: top;\n",
              "    }\n",
              "\n",
              "    .dataframe thead th {\n",
              "        text-align: right;\n",
              "    }\n",
              "</style>\n",
              "<table border=\"1\" class=\"dataframe\">\n",
              "  <thead>\n",
              "    <tr style=\"text-align: right;\">\n",
              "      <th></th>\n",
              "      <th>Unnamed: 0</th>\n",
              "      <th>country</th>\n",
              "      <th>description</th>\n",
              "      <th>designation</th>\n",
              "      <th>points</th>\n",
              "      <th>price</th>\n",
              "      <th>province</th>\n",
              "      <th>region_1</th>\n",
              "      <th>region_2</th>\n",
              "      <th>variety</th>\n",
              "      <th>winery</th>\n",
              "      <th>v1</th>\n",
              "      <th>v2</th>\n",
              "      <th>v3</th>\n",
              "      <th>v4</th>\n",
              "      <th>v5</th>\n",
              "    </tr>\n",
              "  </thead>\n",
              "  <tbody>\n",
              "    <tr>\n",
              "      <th>0</th>\n",
              "      <td>0</td>\n",
              "      <td>US</td>\n",
              "      <td>[this, tremendous, 100%, varietal, wine, hails...</td>\n",
              "      <td>Martha's Vineyard</td>\n",
              "      <td>96</td>\n",
              "      <td>235.0</td>\n",
              "      <td>California</td>\n",
              "      <td>Napa Valley</td>\n",
              "      <td>Napa</td>\n",
              "      <td>Cabernet Sauvignon</td>\n",
              "      <td>Heitz</td>\n",
              "      <td>-0.440964</td>\n",
              "      <td>1.461129</td>\n",
              "      <td>2.680638</td>\n",
              "      <td>3.964068</td>\n",
              "      <td>-0.474201</td>\n",
              "    </tr>\n",
              "    <tr>\n",
              "      <th>1</th>\n",
              "      <td>1</td>\n",
              "      <td>Spain</td>\n",
              "      <td>[ripe, aromas, of, fig,, blackberry, and, cass...</td>\n",
              "      <td>Carodorum Selección Especial Reserva</td>\n",
              "      <td>96</td>\n",
              "      <td>110.0</td>\n",
              "      <td>Northern Spain</td>\n",
              "      <td>Toro</td>\n",
              "      <td>NaN</td>\n",
              "      <td>Tinta de Toro</td>\n",
              "      <td>Bodega Carmen Rodríguez</td>\n",
              "      <td>-1.289654</td>\n",
              "      <td>-0.315715</td>\n",
              "      <td>2.801712</td>\n",
              "      <td>0.178435</td>\n",
              "      <td>0.567614</td>\n",
              "    </tr>\n",
              "    <tr>\n",
              "      <th>2</th>\n",
              "      <td>2</td>\n",
              "      <td>US</td>\n",
              "      <td>[mac, watson, honors, the, memory, of, a, wine...</td>\n",
              "      <td>Special Selected Late Harvest</td>\n",
              "      <td>96</td>\n",
              "      <td>90.0</td>\n",
              "      <td>California</td>\n",
              "      <td>Knights Valley</td>\n",
              "      <td>Sonoma</td>\n",
              "      <td>Sauvignon Blanc</td>\n",
              "      <td>Macauley</td>\n",
              "      <td>-2.074534</td>\n",
              "      <td>1.567887</td>\n",
              "      <td>1.951514</td>\n",
              "      <td>0.969400</td>\n",
              "      <td>0.680591</td>\n",
              "    </tr>\n",
              "    <tr>\n",
              "      <th>3</th>\n",
              "      <td>3</td>\n",
              "      <td>US</td>\n",
              "      <td>[this, spent, 20, months, in, 30%, new, french...</td>\n",
              "      <td>Reserve</td>\n",
              "      <td>96</td>\n",
              "      <td>65.0</td>\n",
              "      <td>Oregon</td>\n",
              "      <td>Willamette Valley</td>\n",
              "      <td>Willamette Valley</td>\n",
              "      <td>Pinot Noir</td>\n",
              "      <td>Ponzi</td>\n",
              "      <td>1.043519</td>\n",
              "      <td>0.870509</td>\n",
              "      <td>0.971636</td>\n",
              "      <td>1.164158</td>\n",
              "      <td>-1.792254</td>\n",
              "    </tr>\n",
              "    <tr>\n",
              "      <th>4</th>\n",
              "      <td>4</td>\n",
              "      <td>France</td>\n",
              "      <td>[this, is, the, top, wine, from, la, bégude,, ...</td>\n",
              "      <td>La Brûlade</td>\n",
              "      <td>95</td>\n",
              "      <td>66.0</td>\n",
              "      <td>Provence</td>\n",
              "      <td>Bandol</td>\n",
              "      <td>NaN</td>\n",
              "      <td>Provence red blend</td>\n",
              "      <td>Domaine de la Bégude</td>\n",
              "      <td>-1.102477</td>\n",
              "      <td>1.890195</td>\n",
              "      <td>1.752979</td>\n",
              "      <td>2.500378</td>\n",
              "      <td>0.055289</td>\n",
              "    </tr>\n",
              "    <tr>\n",
              "      <th>...</th>\n",
              "      <td>...</td>\n",
              "      <td>...</td>\n",
              "      <td>...</td>\n",
              "      <td>...</td>\n",
              "      <td>...</td>\n",
              "      <td>...</td>\n",
              "      <td>...</td>\n",
              "      <td>...</td>\n",
              "      <td>...</td>\n",
              "      <td>...</td>\n",
              "      <td>...</td>\n",
              "      <td>...</td>\n",
              "      <td>...</td>\n",
              "      <td>...</td>\n",
              "      <td>...</td>\n",
              "      <td>...</td>\n",
              "    </tr>\n",
              "    <tr>\n",
              "      <th>150925</th>\n",
              "      <td>150925</td>\n",
              "      <td>Italy</td>\n",
              "      <td>[many, people, feel, fiano, represents, southe...</td>\n",
              "      <td>NaN</td>\n",
              "      <td>91</td>\n",
              "      <td>20.0</td>\n",
              "      <td>Southern Italy</td>\n",
              "      <td>Fiano di Avellino</td>\n",
              "      <td>NaN</td>\n",
              "      <td>White Blend</td>\n",
              "      <td>Feudi di San Gregorio</td>\n",
              "      <td>0.225489</td>\n",
              "      <td>0.255020</td>\n",
              "      <td>0.091634</td>\n",
              "      <td>-0.246791</td>\n",
              "      <td>-0.363258</td>\n",
              "    </tr>\n",
              "    <tr>\n",
              "      <th>150926</th>\n",
              "      <td>150926</td>\n",
              "      <td>France</td>\n",
              "      <td>[offers, an, intriguing, nose, with, ginger,, ...</td>\n",
              "      <td>Cuvée Prestige</td>\n",
              "      <td>91</td>\n",
              "      <td>27.0</td>\n",
              "      <td>Champagne</td>\n",
              "      <td>Champagne</td>\n",
              "      <td>NaN</td>\n",
              "      <td>Champagne Blend</td>\n",
              "      <td>H.Germain</td>\n",
              "      <td>0.119004</td>\n",
              "      <td>0.194472</td>\n",
              "      <td>0.448898</td>\n",
              "      <td>-0.148070</td>\n",
              "      <td>-0.080707</td>\n",
              "    </tr>\n",
              "    <tr>\n",
              "      <th>150927</th>\n",
              "      <td>150927</td>\n",
              "      <td>Italy</td>\n",
              "      <td>[this, classic, example, comes, from, a, cru, ...</td>\n",
              "      <td>Terre di Dora</td>\n",
              "      <td>91</td>\n",
              "      <td>20.0</td>\n",
              "      <td>Southern Italy</td>\n",
              "      <td>Fiano di Avellino</td>\n",
              "      <td>NaN</td>\n",
              "      <td>White Blend</td>\n",
              "      <td>Terredora</td>\n",
              "      <td>0.182077</td>\n",
              "      <td>0.383304</td>\n",
              "      <td>0.043032</td>\n",
              "      <td>-0.413999</td>\n",
              "      <td>-0.243680</td>\n",
              "    </tr>\n",
              "    <tr>\n",
              "      <th>150928</th>\n",
              "      <td>150928</td>\n",
              "      <td>France</td>\n",
              "      <td>[a, perfect, salmon, shade,, with, scents, of,...</td>\n",
              "      <td>Grand Brut Rosé</td>\n",
              "      <td>90</td>\n",
              "      <td>52.0</td>\n",
              "      <td>Champagne</td>\n",
              "      <td>Champagne</td>\n",
              "      <td>NaN</td>\n",
              "      <td>Champagne Blend</td>\n",
              "      <td>Gosset</td>\n",
              "      <td>0.188177</td>\n",
              "      <td>0.314050</td>\n",
              "      <td>0.112689</td>\n",
              "      <td>0.052918</td>\n",
              "      <td>-0.170548</td>\n",
              "    </tr>\n",
              "    <tr>\n",
              "      <th>150929</th>\n",
              "      <td>150929</td>\n",
              "      <td>Italy</td>\n",
              "      <td>[more, pinot, grigios, should, taste, like, th...</td>\n",
              "      <td>NaN</td>\n",
              "      <td>90</td>\n",
              "      <td>15.0</td>\n",
              "      <td>Northeastern Italy</td>\n",
              "      <td>Alto Adige</td>\n",
              "      <td>NaN</td>\n",
              "      <td>Pinot Grigio</td>\n",
              "      <td>Alois Lageder</td>\n",
              "      <td>0.110351</td>\n",
              "      <td>0.493000</td>\n",
              "      <td>0.115242</td>\n",
              "      <td>-0.441213</td>\n",
              "      <td>-0.180354</td>\n",
              "    </tr>\n",
              "  </tbody>\n",
              "</table>\n",
              "<p>150930 rows × 16 columns</p>\n",
              "</div>\n",
              "      <button class=\"colab-df-convert\" onclick=\"convertToInteractive('df-42b8ce1b-fe58-4905-9c16-780bd98d760e')\"\n",
              "              title=\"Convert this dataframe to an interactive table.\"\n",
              "              style=\"display:none;\">\n",
              "        \n",
              "  <svg xmlns=\"http://www.w3.org/2000/svg\" height=\"24px\"viewBox=\"0 0 24 24\"\n",
              "       width=\"24px\">\n",
              "    <path d=\"M0 0h24v24H0V0z\" fill=\"none\"/>\n",
              "    <path d=\"M18.56 5.44l.94 2.06.94-2.06 2.06-.94-2.06-.94-.94-2.06-.94 2.06-2.06.94zm-11 1L8.5 8.5l.94-2.06 2.06-.94-2.06-.94L8.5 2.5l-.94 2.06-2.06.94zm10 10l.94 2.06.94-2.06 2.06-.94-2.06-.94-.94-2.06-.94 2.06-2.06.94z\"/><path d=\"M17.41 7.96l-1.37-1.37c-.4-.4-.92-.59-1.43-.59-.52 0-1.04.2-1.43.59L10.3 9.45l-7.72 7.72c-.78.78-.78 2.05 0 2.83L4 21.41c.39.39.9.59 1.41.59.51 0 1.02-.2 1.41-.59l7.78-7.78 2.81-2.81c.8-.78.8-2.07 0-2.86zM5.41 20L4 18.59l7.72-7.72 1.47 1.35L5.41 20z\"/>\n",
              "  </svg>\n",
              "      </button>\n",
              "      \n",
              "  <style>\n",
              "    .colab-df-container {\n",
              "      display:flex;\n",
              "      flex-wrap:wrap;\n",
              "      gap: 12px;\n",
              "    }\n",
              "\n",
              "    .colab-df-convert {\n",
              "      background-color: #E8F0FE;\n",
              "      border: none;\n",
              "      border-radius: 50%;\n",
              "      cursor: pointer;\n",
              "      display: none;\n",
              "      fill: #1967D2;\n",
              "      height: 32px;\n",
              "      padding: 0 0 0 0;\n",
              "      width: 32px;\n",
              "    }\n",
              "\n",
              "    .colab-df-convert:hover {\n",
              "      background-color: #E2EBFA;\n",
              "      box-shadow: 0px 1px 2px rgba(60, 64, 67, 0.3), 0px 1px 3px 1px rgba(60, 64, 67, 0.15);\n",
              "      fill: #174EA6;\n",
              "    }\n",
              "\n",
              "    [theme=dark] .colab-df-convert {\n",
              "      background-color: #3B4455;\n",
              "      fill: #D2E3FC;\n",
              "    }\n",
              "\n",
              "    [theme=dark] .colab-df-convert:hover {\n",
              "      background-color: #434B5C;\n",
              "      box-shadow: 0px 1px 3px 1px rgba(0, 0, 0, 0.15);\n",
              "      filter: drop-shadow(0px 1px 2px rgba(0, 0, 0, 0.3));\n",
              "      fill: #FFFFFF;\n",
              "    }\n",
              "  </style>\n",
              "\n",
              "      <script>\n",
              "        const buttonEl =\n",
              "          document.querySelector('#df-42b8ce1b-fe58-4905-9c16-780bd98d760e button.colab-df-convert');\n",
              "        buttonEl.style.display =\n",
              "          google.colab.kernel.accessAllowed ? 'block' : 'none';\n",
              "\n",
              "        async function convertToInteractive(key) {\n",
              "          const element = document.querySelector('#df-42b8ce1b-fe58-4905-9c16-780bd98d760e');\n",
              "          const dataTable =\n",
              "            await google.colab.kernel.invokeFunction('convertToInteractive',\n",
              "                                                     [key], {});\n",
              "          if (!dataTable) return;\n",
              "\n",
              "          const docLinkHtml = 'Like what you see? Visit the ' +\n",
              "            '<a target=\"_blank\" href=https://colab.research.google.com/notebooks/data_table.ipynb>data table notebook</a>'\n",
              "            + ' to learn more about interactive tables.';\n",
              "          element.innerHTML = '';\n",
              "          dataTable['output_type'] = 'display_data';\n",
              "          await google.colab.output.renderOutput(dataTable, element);\n",
              "          const docLink = document.createElement('div');\n",
              "          docLink.innerHTML = docLinkHtml;\n",
              "          element.appendChild(docLink);\n",
              "        }\n",
              "      </script>\n",
              "    </div>\n",
              "  </div>\n",
              "  "
            ]
          },
          "metadata": {},
          "execution_count": 11
        }
      ]
    },
    {
      "cell_type": "code",
      "source": [
        "data_train = data_1[[\"price\", \"points\", \"v1\",\"v2\",\"v3\",\"v4\",\"v5\"]]\n",
        "data_train"
      ],
      "metadata": {
        "colab": {
          "base_uri": "https://localhost:8080/",
          "height": 423
        },
        "id": "8JeLX8DNYmsL",
        "outputId": "1bd874e4-530a-4fb0-9c96-2e43164c7884"
      },
      "execution_count": 12,
      "outputs": [
        {
          "output_type": "execute_result",
          "data": {
            "text/plain": [
              "        price  points        v1        v2        v3        v4        v5\n",
              "0       235.0      96 -0.440964  1.461129  2.680638  3.964068 -0.474201\n",
              "1       110.0      96 -1.289654 -0.315715  2.801712  0.178435  0.567614\n",
              "2        90.0      96 -2.074534  1.567887  1.951514  0.969400  0.680591\n",
              "3        65.0      96  1.043519  0.870509  0.971636  1.164158 -1.792254\n",
              "4        66.0      95 -1.102477  1.890195  1.752979  2.500378  0.055289\n",
              "...       ...     ...       ...       ...       ...       ...       ...\n",
              "150925   20.0      91  0.225489  0.255020  0.091634 -0.246791 -0.363258\n",
              "150926   27.0      91  0.119004  0.194472  0.448898 -0.148070 -0.080707\n",
              "150927   20.0      91  0.182077  0.383304  0.043032 -0.413999 -0.243680\n",
              "150928   52.0      90  0.188177  0.314050  0.112689  0.052918 -0.170548\n",
              "150929   15.0      90  0.110351  0.493000  0.115242 -0.441213 -0.180354\n",
              "\n",
              "[150930 rows x 7 columns]"
            ],
            "text/html": [
              "\n",
              "  <div id=\"df-4603fef2-1267-4a8a-9459-7622a9c1d368\">\n",
              "    <div class=\"colab-df-container\">\n",
              "      <div>\n",
              "<style scoped>\n",
              "    .dataframe tbody tr th:only-of-type {\n",
              "        vertical-align: middle;\n",
              "    }\n",
              "\n",
              "    .dataframe tbody tr th {\n",
              "        vertical-align: top;\n",
              "    }\n",
              "\n",
              "    .dataframe thead th {\n",
              "        text-align: right;\n",
              "    }\n",
              "</style>\n",
              "<table border=\"1\" class=\"dataframe\">\n",
              "  <thead>\n",
              "    <tr style=\"text-align: right;\">\n",
              "      <th></th>\n",
              "      <th>price</th>\n",
              "      <th>points</th>\n",
              "      <th>v1</th>\n",
              "      <th>v2</th>\n",
              "      <th>v3</th>\n",
              "      <th>v4</th>\n",
              "      <th>v5</th>\n",
              "    </tr>\n",
              "  </thead>\n",
              "  <tbody>\n",
              "    <tr>\n",
              "      <th>0</th>\n",
              "      <td>235.0</td>\n",
              "      <td>96</td>\n",
              "      <td>-0.440964</td>\n",
              "      <td>1.461129</td>\n",
              "      <td>2.680638</td>\n",
              "      <td>3.964068</td>\n",
              "      <td>-0.474201</td>\n",
              "    </tr>\n",
              "    <tr>\n",
              "      <th>1</th>\n",
              "      <td>110.0</td>\n",
              "      <td>96</td>\n",
              "      <td>-1.289654</td>\n",
              "      <td>-0.315715</td>\n",
              "      <td>2.801712</td>\n",
              "      <td>0.178435</td>\n",
              "      <td>0.567614</td>\n",
              "    </tr>\n",
              "    <tr>\n",
              "      <th>2</th>\n",
              "      <td>90.0</td>\n",
              "      <td>96</td>\n",
              "      <td>-2.074534</td>\n",
              "      <td>1.567887</td>\n",
              "      <td>1.951514</td>\n",
              "      <td>0.969400</td>\n",
              "      <td>0.680591</td>\n",
              "    </tr>\n",
              "    <tr>\n",
              "      <th>3</th>\n",
              "      <td>65.0</td>\n",
              "      <td>96</td>\n",
              "      <td>1.043519</td>\n",
              "      <td>0.870509</td>\n",
              "      <td>0.971636</td>\n",
              "      <td>1.164158</td>\n",
              "      <td>-1.792254</td>\n",
              "    </tr>\n",
              "    <tr>\n",
              "      <th>4</th>\n",
              "      <td>66.0</td>\n",
              "      <td>95</td>\n",
              "      <td>-1.102477</td>\n",
              "      <td>1.890195</td>\n",
              "      <td>1.752979</td>\n",
              "      <td>2.500378</td>\n",
              "      <td>0.055289</td>\n",
              "    </tr>\n",
              "    <tr>\n",
              "      <th>...</th>\n",
              "      <td>...</td>\n",
              "      <td>...</td>\n",
              "      <td>...</td>\n",
              "      <td>...</td>\n",
              "      <td>...</td>\n",
              "      <td>...</td>\n",
              "      <td>...</td>\n",
              "    </tr>\n",
              "    <tr>\n",
              "      <th>150925</th>\n",
              "      <td>20.0</td>\n",
              "      <td>91</td>\n",
              "      <td>0.225489</td>\n",
              "      <td>0.255020</td>\n",
              "      <td>0.091634</td>\n",
              "      <td>-0.246791</td>\n",
              "      <td>-0.363258</td>\n",
              "    </tr>\n",
              "    <tr>\n",
              "      <th>150926</th>\n",
              "      <td>27.0</td>\n",
              "      <td>91</td>\n",
              "      <td>0.119004</td>\n",
              "      <td>0.194472</td>\n",
              "      <td>0.448898</td>\n",
              "      <td>-0.148070</td>\n",
              "      <td>-0.080707</td>\n",
              "    </tr>\n",
              "    <tr>\n",
              "      <th>150927</th>\n",
              "      <td>20.0</td>\n",
              "      <td>91</td>\n",
              "      <td>0.182077</td>\n",
              "      <td>0.383304</td>\n",
              "      <td>0.043032</td>\n",
              "      <td>-0.413999</td>\n",
              "      <td>-0.243680</td>\n",
              "    </tr>\n",
              "    <tr>\n",
              "      <th>150928</th>\n",
              "      <td>52.0</td>\n",
              "      <td>90</td>\n",
              "      <td>0.188177</td>\n",
              "      <td>0.314050</td>\n",
              "      <td>0.112689</td>\n",
              "      <td>0.052918</td>\n",
              "      <td>-0.170548</td>\n",
              "    </tr>\n",
              "    <tr>\n",
              "      <th>150929</th>\n",
              "      <td>15.0</td>\n",
              "      <td>90</td>\n",
              "      <td>0.110351</td>\n",
              "      <td>0.493000</td>\n",
              "      <td>0.115242</td>\n",
              "      <td>-0.441213</td>\n",
              "      <td>-0.180354</td>\n",
              "    </tr>\n",
              "  </tbody>\n",
              "</table>\n",
              "<p>150930 rows × 7 columns</p>\n",
              "</div>\n",
              "      <button class=\"colab-df-convert\" onclick=\"convertToInteractive('df-4603fef2-1267-4a8a-9459-7622a9c1d368')\"\n",
              "              title=\"Convert this dataframe to an interactive table.\"\n",
              "              style=\"display:none;\">\n",
              "        \n",
              "  <svg xmlns=\"http://www.w3.org/2000/svg\" height=\"24px\"viewBox=\"0 0 24 24\"\n",
              "       width=\"24px\">\n",
              "    <path d=\"M0 0h24v24H0V0z\" fill=\"none\"/>\n",
              "    <path d=\"M18.56 5.44l.94 2.06.94-2.06 2.06-.94-2.06-.94-.94-2.06-.94 2.06-2.06.94zm-11 1L8.5 8.5l.94-2.06 2.06-.94-2.06-.94L8.5 2.5l-.94 2.06-2.06.94zm10 10l.94 2.06.94-2.06 2.06-.94-2.06-.94-.94-2.06-.94 2.06-2.06.94z\"/><path d=\"M17.41 7.96l-1.37-1.37c-.4-.4-.92-.59-1.43-.59-.52 0-1.04.2-1.43.59L10.3 9.45l-7.72 7.72c-.78.78-.78 2.05 0 2.83L4 21.41c.39.39.9.59 1.41.59.51 0 1.02-.2 1.41-.59l7.78-7.78 2.81-2.81c.8-.78.8-2.07 0-2.86zM5.41 20L4 18.59l7.72-7.72 1.47 1.35L5.41 20z\"/>\n",
              "  </svg>\n",
              "      </button>\n",
              "      \n",
              "  <style>\n",
              "    .colab-df-container {\n",
              "      display:flex;\n",
              "      flex-wrap:wrap;\n",
              "      gap: 12px;\n",
              "    }\n",
              "\n",
              "    .colab-df-convert {\n",
              "      background-color: #E8F0FE;\n",
              "      border: none;\n",
              "      border-radius: 50%;\n",
              "      cursor: pointer;\n",
              "      display: none;\n",
              "      fill: #1967D2;\n",
              "      height: 32px;\n",
              "      padding: 0 0 0 0;\n",
              "      width: 32px;\n",
              "    }\n",
              "\n",
              "    .colab-df-convert:hover {\n",
              "      background-color: #E2EBFA;\n",
              "      box-shadow: 0px 1px 2px rgba(60, 64, 67, 0.3), 0px 1px 3px 1px rgba(60, 64, 67, 0.15);\n",
              "      fill: #174EA6;\n",
              "    }\n",
              "\n",
              "    [theme=dark] .colab-df-convert {\n",
              "      background-color: #3B4455;\n",
              "      fill: #D2E3FC;\n",
              "    }\n",
              "\n",
              "    [theme=dark] .colab-df-convert:hover {\n",
              "      background-color: #434B5C;\n",
              "      box-shadow: 0px 1px 3px 1px rgba(0, 0, 0, 0.15);\n",
              "      filter: drop-shadow(0px 1px 2px rgba(0, 0, 0, 0.3));\n",
              "      fill: #FFFFFF;\n",
              "    }\n",
              "  </style>\n",
              "\n",
              "      <script>\n",
              "        const buttonEl =\n",
              "          document.querySelector('#df-4603fef2-1267-4a8a-9459-7622a9c1d368 button.colab-df-convert');\n",
              "        buttonEl.style.display =\n",
              "          google.colab.kernel.accessAllowed ? 'block' : 'none';\n",
              "\n",
              "        async function convertToInteractive(key) {\n",
              "          const element = document.querySelector('#df-4603fef2-1267-4a8a-9459-7622a9c1d368');\n",
              "          const dataTable =\n",
              "            await google.colab.kernel.invokeFunction('convertToInteractive',\n",
              "                                                     [key], {});\n",
              "          if (!dataTable) return;\n",
              "\n",
              "          const docLinkHtml = 'Like what you see? Visit the ' +\n",
              "            '<a target=\"_blank\" href=https://colab.research.google.com/notebooks/data_table.ipynb>data table notebook</a>'\n",
              "            + ' to learn more about interactive tables.';\n",
              "          element.innerHTML = '';\n",
              "          dataTable['output_type'] = 'display_data';\n",
              "          await google.colab.output.renderOutput(dataTable, element);\n",
              "          const docLink = document.createElement('div');\n",
              "          docLink.innerHTML = docLinkHtml;\n",
              "          element.appendChild(docLink);\n",
              "        }\n",
              "      </script>\n",
              "    </div>\n",
              "  </div>\n",
              "  "
            ]
          },
          "metadata": {},
          "execution_count": 12
        }
      ]
    },
    {
      "cell_type": "code",
      "source": [
        "data_train.isna().any()"
      ],
      "metadata": {
        "colab": {
          "base_uri": "https://localhost:8080/"
        },
        "id": "oH5frnWdZKz-",
        "outputId": "a09d6718-a3bc-44dd-ef78-31ee12095b6f"
      },
      "execution_count": 13,
      "outputs": [
        {
          "output_type": "execute_result",
          "data": {
            "text/plain": [
              "price      True\n",
              "points    False\n",
              "v1        False\n",
              "v2        False\n",
              "v3        False\n",
              "v4        False\n",
              "v5        False\n",
              "dtype: bool"
            ]
          },
          "metadata": {},
          "execution_count": 13
        }
      ]
    },
    {
      "cell_type": "code",
      "source": [
        "#I suppose we can drop non-existant values for consistency of data\n",
        "data_train = data_train.dropna()"
      ],
      "metadata": {
        "id": "4lXwI2n4ZOTJ"
      },
      "execution_count": 14,
      "outputs": []
    },
    {
      "cell_type": "code",
      "source": [
        "#to normalize the data\n",
        "from sklearn.preprocessing import StandardScaler\n",
        "sc = StandardScaler()\n",
        "data_scaled = data_train.copy()\n",
        "data_scaled[data_scaled.columns]=sc.fit_transform(data_scaled)\n",
        "data_scaled.head(3)"
      ],
      "metadata": {
        "colab": {
          "base_uri": "https://localhost:8080/",
          "height": 143
        },
        "id": "2BvI34tkZfVF",
        "outputId": "98570d08-e96a-48f9-aa0e-3f38b9efadce"
      },
      "execution_count": 15,
      "outputs": [
        {
          "output_type": "execute_result",
          "data": {
            "text/plain": [
              "      price    points        v1        v2        v3        v4        v5\n",
              "0  5.557686  2.549015 -1.031363  2.518864  4.772887  6.487111 -0.756280\n",
              "1  2.116284  2.549015 -2.600793 -1.265370  5.015018  0.603402  1.261309\n",
              "2  1.565660  2.549015 -4.052222  2.746234  3.314745  1.832735  1.480101"
            ],
            "text/html": [
              "\n",
              "  <div id=\"df-39036534-87fb-4e1d-a62b-702b1672918a\">\n",
              "    <div class=\"colab-df-container\">\n",
              "      <div>\n",
              "<style scoped>\n",
              "    .dataframe tbody tr th:only-of-type {\n",
              "        vertical-align: middle;\n",
              "    }\n",
              "\n",
              "    .dataframe tbody tr th {\n",
              "        vertical-align: top;\n",
              "    }\n",
              "\n",
              "    .dataframe thead th {\n",
              "        text-align: right;\n",
              "    }\n",
              "</style>\n",
              "<table border=\"1\" class=\"dataframe\">\n",
              "  <thead>\n",
              "    <tr style=\"text-align: right;\">\n",
              "      <th></th>\n",
              "      <th>price</th>\n",
              "      <th>points</th>\n",
              "      <th>v1</th>\n",
              "      <th>v2</th>\n",
              "      <th>v3</th>\n",
              "      <th>v4</th>\n",
              "      <th>v5</th>\n",
              "    </tr>\n",
              "  </thead>\n",
              "  <tbody>\n",
              "    <tr>\n",
              "      <th>0</th>\n",
              "      <td>5.557686</td>\n",
              "      <td>2.549015</td>\n",
              "      <td>-1.031363</td>\n",
              "      <td>2.518864</td>\n",
              "      <td>4.772887</td>\n",
              "      <td>6.487111</td>\n",
              "      <td>-0.756280</td>\n",
              "    </tr>\n",
              "    <tr>\n",
              "      <th>1</th>\n",
              "      <td>2.116284</td>\n",
              "      <td>2.549015</td>\n",
              "      <td>-2.600793</td>\n",
              "      <td>-1.265370</td>\n",
              "      <td>5.015018</td>\n",
              "      <td>0.603402</td>\n",
              "      <td>1.261309</td>\n",
              "    </tr>\n",
              "    <tr>\n",
              "      <th>2</th>\n",
              "      <td>1.565660</td>\n",
              "      <td>2.549015</td>\n",
              "      <td>-4.052222</td>\n",
              "      <td>2.746234</td>\n",
              "      <td>3.314745</td>\n",
              "      <td>1.832735</td>\n",
              "      <td>1.480101</td>\n",
              "    </tr>\n",
              "  </tbody>\n",
              "</table>\n",
              "</div>\n",
              "      <button class=\"colab-df-convert\" onclick=\"convertToInteractive('df-39036534-87fb-4e1d-a62b-702b1672918a')\"\n",
              "              title=\"Convert this dataframe to an interactive table.\"\n",
              "              style=\"display:none;\">\n",
              "        \n",
              "  <svg xmlns=\"http://www.w3.org/2000/svg\" height=\"24px\"viewBox=\"0 0 24 24\"\n",
              "       width=\"24px\">\n",
              "    <path d=\"M0 0h24v24H0V0z\" fill=\"none\"/>\n",
              "    <path d=\"M18.56 5.44l.94 2.06.94-2.06 2.06-.94-2.06-.94-.94-2.06-.94 2.06-2.06.94zm-11 1L8.5 8.5l.94-2.06 2.06-.94-2.06-.94L8.5 2.5l-.94 2.06-2.06.94zm10 10l.94 2.06.94-2.06 2.06-.94-2.06-.94-.94-2.06-.94 2.06-2.06.94z\"/><path d=\"M17.41 7.96l-1.37-1.37c-.4-.4-.92-.59-1.43-.59-.52 0-1.04.2-1.43.59L10.3 9.45l-7.72 7.72c-.78.78-.78 2.05 0 2.83L4 21.41c.39.39.9.59 1.41.59.51 0 1.02-.2 1.41-.59l7.78-7.78 2.81-2.81c.8-.78.8-2.07 0-2.86zM5.41 20L4 18.59l7.72-7.72 1.47 1.35L5.41 20z\"/>\n",
              "  </svg>\n",
              "      </button>\n",
              "      \n",
              "  <style>\n",
              "    .colab-df-container {\n",
              "      display:flex;\n",
              "      flex-wrap:wrap;\n",
              "      gap: 12px;\n",
              "    }\n",
              "\n",
              "    .colab-df-convert {\n",
              "      background-color: #E8F0FE;\n",
              "      border: none;\n",
              "      border-radius: 50%;\n",
              "      cursor: pointer;\n",
              "      display: none;\n",
              "      fill: #1967D2;\n",
              "      height: 32px;\n",
              "      padding: 0 0 0 0;\n",
              "      width: 32px;\n",
              "    }\n",
              "\n",
              "    .colab-df-convert:hover {\n",
              "      background-color: #E2EBFA;\n",
              "      box-shadow: 0px 1px 2px rgba(60, 64, 67, 0.3), 0px 1px 3px 1px rgba(60, 64, 67, 0.15);\n",
              "      fill: #174EA6;\n",
              "    }\n",
              "\n",
              "    [theme=dark] .colab-df-convert {\n",
              "      background-color: #3B4455;\n",
              "      fill: #D2E3FC;\n",
              "    }\n",
              "\n",
              "    [theme=dark] .colab-df-convert:hover {\n",
              "      background-color: #434B5C;\n",
              "      box-shadow: 0px 1px 3px 1px rgba(0, 0, 0, 0.15);\n",
              "      filter: drop-shadow(0px 1px 2px rgba(0, 0, 0, 0.3));\n",
              "      fill: #FFFFFF;\n",
              "    }\n",
              "  </style>\n",
              "\n",
              "      <script>\n",
              "        const buttonEl =\n",
              "          document.querySelector('#df-39036534-87fb-4e1d-a62b-702b1672918a button.colab-df-convert');\n",
              "        buttonEl.style.display =\n",
              "          google.colab.kernel.accessAllowed ? 'block' : 'none';\n",
              "\n",
              "        async function convertToInteractive(key) {\n",
              "          const element = document.querySelector('#df-39036534-87fb-4e1d-a62b-702b1672918a');\n",
              "          const dataTable =\n",
              "            await google.colab.kernel.invokeFunction('convertToInteractive',\n",
              "                                                     [key], {});\n",
              "          if (!dataTable) return;\n",
              "\n",
              "          const docLinkHtml = 'Like what you see? Visit the ' +\n",
              "            '<a target=\"_blank\" href=https://colab.research.google.com/notebooks/data_table.ipynb>data table notebook</a>'\n",
              "            + ' to learn more about interactive tables.';\n",
              "          element.innerHTML = '';\n",
              "          dataTable['output_type'] = 'display_data';\n",
              "          await google.colab.output.renderOutput(dataTable, element);\n",
              "          const docLink = document.createElement('div');\n",
              "          docLink.innerHTML = docLinkHtml;\n",
              "          element.appendChild(docLink);\n",
              "        }\n",
              "      </script>\n",
              "    </div>\n",
              "  </div>\n",
              "  "
            ]
          },
          "metadata": {},
          "execution_count": 15
        }
      ]
    },
    {
      "cell_type": "code",
      "source": [
        "from sklearn.decomposition import PCA\n",
        "pca_2 = PCA(2) # задали количество компонент\n",
        "\n",
        "pca_2_result = pca_2.fit_transform(data_scaled) \n",
        "\n",
        "pca_2 = pca_2_result\n",
        "\n",
        "pca_2_result.shape"
      ],
      "metadata": {
        "colab": {
          "base_uri": "https://localhost:8080/"
        },
        "id": "gCs5sxJlZqx-",
        "outputId": "6bab9757-e58e-45a4-e7a6-61ccebfcdfb1"
      },
      "execution_count": 16,
      "outputs": [
        {
          "output_type": "execute_result",
          "data": {
            "text/plain": [
              "(137235, 2)"
            ]
          },
          "metadata": {},
          "execution_count": 16
        }
      ]
    },
    {
      "cell_type": "markdown",
      "source": [
        "I want to look at this terrible cloud"
      ],
      "metadata": {
        "id": "tl_SAbIhKZRs"
      }
    },
    {
      "cell_type": "code",
      "source": [
        "sns.set(rc={'figure.figsize':(9,6)},font_scale=1)\n",
        "\n",
        "plt.scatter(x=pca_2_result[:, 0], y=pca_2_result[:, 1], color='blue') # 0 и 1 - индексы колонок\n",
        "plt.xlabel('PC 1')\n",
        "plt.ylabel('PC 2')\n",
        "\n",
        "plt.title('Распределение данных по двум главным компонентам')\n",
        "plt.show()"
      ],
      "metadata": {
        "colab": {
          "base_uri": "https://localhost:8080/",
          "height": 573
        },
        "id": "mnTvUNs2hES4",
        "outputId": "9229dab5-b1b3-45c7-f7df-6347a5cd5823"
      },
      "execution_count": 17,
      "outputs": [
        {
          "output_type": "display_data",
          "data": {
            "text/plain": [
              "<Figure size 900x600 with 1 Axes>"
            ],
            "image/png": "[encoded data removed]"
          },
          "metadata": {}
        }
      ]
    },
    {
      "cell_type": "markdown",
      "source": [
        "Check K-means as was done in the lecture (literally same code.. but I'm not a computational linguist to be overly extravagant).\n",
        "\n",
        "And do inertia at the same time (why not)"
      ],
      "metadata": {
        "id": "jdYSM2lMieny"
      }
    },
    {
      "cell_type": "code",
      "source": [
        "import sklearn.cluster as cluster\n",
        "inertia = []\n",
        "for i in tqdm(range(2,20)):\n",
        "    \n",
        "    kmeans = cluster.KMeans(\n",
        "               n_clusters=i,\n",
        "               init='k-means++',\n",
        "               n_init=15,\n",
        "               max_iter=500,\n",
        "               random_state=17\n",
        "    ) \n",
        "    \n",
        "    \n",
        "    kmeans.fit(pca_2_result) \n",
        "    inertia.append(kmeans.inertia_)\n",
        "    print(kmeans.inertia_)"
      ],
      "metadata": {
        "colab": {
          "base_uri": "https://localhost:8080/"
        },
        "id": "lHkXGDO2hiPA",
        "outputId": "5ba06397-6f0d-4b51-d811-93c20d79fc3c"
      },
      "execution_count": 18,
      "outputs": [
        {
          "output_type": "stream",
          "name": "stderr",
          "text": [
            "  6%|▌         | 1/18 [00:01<00:33,  1.97s/it]"
          ]
        },
        {
          "output_type": "stream",
          "name": "stdout",
          "text": [
            "272124.1327001908\n"
          ]
        },
        {
          "output_type": "stream",
          "name": "stderr",
          "text": [
            "\r 11%|█         | 2/18 [00:04<00:33,  2.06s/it]"
          ]
        },
        {
          "output_type": "stream",
          "name": "stdout",
          "text": [
            "171429.8552377508\n"
          ]
        },
        {
          "output_type": "stream",
          "name": "stderr",
          "text": [
            "\r 17%|█▋        | 3/18 [00:06<00:36,  2.41s/it]"
          ]
        },
        {
          "output_type": "stream",
          "name": "stdout",
          "text": [
            "137652.38108782913\n"
          ]
        },
        {
          "output_type": "stream",
          "name": "stderr",
          "text": [
            "\r 22%|██▏       | 4/18 [00:12<00:52,  3.78s/it]"
          ]
        },
        {
          "output_type": "stream",
          "name": "stdout",
          "text": [
            "115980.60278158396\n"
          ]
        },
        {
          "output_type": "stream",
          "name": "stderr",
          "text": [
            "\r 28%|██▊       | 5/18 [00:16<00:47,  3.66s/it]"
          ]
        },
        {
          "output_type": "stream",
          "name": "stdout",
          "text": [
            "95307.20235303201\n"
          ]
        },
        {
          "output_type": "stream",
          "name": "stderr",
          "text": [
            "\r 33%|███▎      | 6/18 [00:20<00:45,  3.78s/it]"
          ]
        },
        {
          "output_type": "stream",
          "name": "stdout",
          "text": [
            "80211.53865636014\n"
          ]
        },
        {
          "output_type": "stream",
          "name": "stderr",
          "text": [
            "\r 39%|███▉      | 7/18 [00:27<00:53,  4.88s/it]"
          ]
        },
        {
          "output_type": "stream",
          "name": "stdout",
          "text": [
            "69327.17091123902\n"
          ]
        },
        {
          "output_type": "stream",
          "name": "stderr",
          "text": [
            "\r 44%|████▍     | 8/18 [00:31<00:46,  4.61s/it]"
          ]
        },
        {
          "output_type": "stream",
          "name": "stdout",
          "text": [
            "62765.25766383906\n"
          ]
        },
        {
          "output_type": "stream",
          "name": "stderr",
          "text": [
            "\r 50%|█████     | 9/18 [00:37<00:44,  4.98s/it]"
          ]
        },
        {
          "output_type": "stream",
          "name": "stdout",
          "text": [
            "57445.40452604357\n"
          ]
        },
        {
          "output_type": "stream",
          "name": "stderr",
          "text": [
            "\r 56%|█████▌    | 10/18 [00:43<00:43,  5.45s/it]"
          ]
        },
        {
          "output_type": "stream",
          "name": "stdout",
          "text": [
            "52342.35811287386\n"
          ]
        },
        {
          "output_type": "stream",
          "name": "stderr",
          "text": [
            "\r 61%|██████    | 11/18 [00:49<00:39,  5.65s/it]"
          ]
        },
        {
          "output_type": "stream",
          "name": "stdout",
          "text": [
            "47714.17807219459\n"
          ]
        },
        {
          "output_type": "stream",
          "name": "stderr",
          "text": [
            "\r 67%|██████▋   | 12/18 [00:58<00:40,  6.71s/it]"
          ]
        },
        {
          "output_type": "stream",
          "name": "stdout",
          "text": [
            "43884.783721402324\n"
          ]
        },
        {
          "output_type": "stream",
          "name": "stderr",
          "text": [
            "\r 72%|███████▏  | 13/18 [01:08<00:37,  7.52s/it]"
          ]
        },
        {
          "output_type": "stream",
          "name": "stdout",
          "text": [
            "40827.23256963367\n"
          ]
        },
        {
          "output_type": "stream",
          "name": "stderr",
          "text": [
            "\r 78%|███████▊  | 14/18 [01:15<00:29,  7.31s/it]"
          ]
        },
        {
          "output_type": "stream",
          "name": "stdout",
          "text": [
            "38274.622894269545\n"
          ]
        },
        {
          "output_type": "stream",
          "name": "stderr",
          "text": [
            "\r 83%|████████▎ | 15/18 [01:24<00:24,  8.05s/it]"
          ]
        },
        {
          "output_type": "stream",
          "name": "stdout",
          "text": [
            "35965.31027859705\n"
          ]
        },
        {
          "output_type": "stream",
          "name": "stderr",
          "text": [
            "\r 89%|████████▉ | 16/18 [01:33<00:16,  8.32s/it]"
          ]
        },
        {
          "output_type": "stream",
          "name": "stdout",
          "text": [
            "33731.09735577978\n"
          ]
        },
        {
          "output_type": "stream",
          "name": "stderr",
          "text": [
            "\r 94%|█████████▍| 17/18 [01:45<00:09,  9.19s/it]"
          ]
        },
        {
          "output_type": "stream",
          "name": "stdout",
          "text": [
            "31984.392276814913\n"
          ]
        },
        {
          "output_type": "stream",
          "name": "stderr",
          "text": [
            "100%|██████████| 18/18 [01:56<00:00,  6.47s/it]"
          ]
        },
        {
          "output_type": "stream",
          "name": "stdout",
          "text": [
            "30384.112738187854\n"
          ]
        },
        {
          "output_type": "stream",
          "name": "stderr",
          "text": [
            "\n"
          ]
        }
      ]
    },
    {
      "cell_type": "markdown",
      "source": [
        "Inertia showed some terrible numbers here. It's clear for me that clustering of this thing is pretty difficult; that's why we get these extra big numbers for almost any quantity of clusters."
      ],
      "metadata": {
        "id": "MG7svIzxLM4o"
      }
    },
    {
      "cell_type": "markdown",
      "source": [
        "Now silhouettes. It takes too much time to run it therefore I run it in a really small range"
      ],
      "metadata": {
        "id": "v17kTrThL-A3"
      }
    },
    {
      "cell_type": "code",
      "source": [
        "from sklearn.metrics import silhouette_score\n",
        "\n",
        "silhouette = {}\n",
        "for i in tqdm(range(2,5)):\n",
        "    \n",
        "    kmeans = cluster.KMeans(\n",
        "               n_clusters=i,\n",
        "               init='k-means++',\n",
        "               n_init=15,\n",
        "               max_iter=500,\n",
        "               random_state=17\n",
        "    ) \n",
        "    \n",
        "    kmeans.fit(pca_2_result)\n",
        "    \n",
        "    silhouette[i] = silhouette_score(pca_2_result, kmeans.labels_, metric='euclidean')\n",
        "\n",
        "print(silhouette)"
      ],
      "metadata": {
        "id": "hYEKset8idG-",
        "colab": {
          "base_uri": "https://localhost:8080/"
        },
        "outputId": "ab12199c-11b7-4125-caf4-a465a3efde8c"
      },
      "execution_count": 19,
      "outputs": [
        {
          "output_type": "stream",
          "name": "stderr",
          "text": [
            "100%|██████████| 3/3 [13:15<00:00, 265.04s/it]"
          ]
        },
        {
          "output_type": "stream",
          "name": "stdout",
          "text": [
            "{2: 0.46743333732913844, 3: 0.48614024941854794, 4: 0.42506356661576883}\n"
          ]
        },
        {
          "output_type": "stream",
          "name": "stderr",
          "text": [
            "\n"
          ]
        }
      ]
    },
    {
      "cell_type": "code",
      "source": [
        "print(silhouette)"
      ],
      "metadata": {
        "id": "dDeB-yj_ibix",
        "colab": {
          "base_uri": "https://localhost:8080/"
        },
        "outputId": "0cdd492c-63f4-4120-d1ed-8578067b17d9"
      },
      "execution_count": 20,
      "outputs": [
        {
          "output_type": "stream",
          "name": "stdout",
          "text": [
            "{2: 0.46743333732913844, 3: 0.48614024941854794, 4: 0.42506356661576883}\n"
          ]
        }
      ]
    },
    {
      "cell_type": "markdown",
      "source": [
        "It feels like 2 clusters is okay and everything more than that is just much worse; since silhouette has the biggest value with two clusters"
      ],
      "metadata": {
        "id": "eCbPTRuJe3A9"
      }
    },
    {
      "cell_type": "code",
      "source": [
        "kmeans = cluster.KMeans(n_clusters=2,random_state=17,init='k-means++')\n",
        "\n",
        "kmeans_labels = kmeans.fit_predict(pca_2_result)\n",
        "\n",
        "centroids = kmeans.cluster_centers_\n",
        "\n",
        "display(pd.Series(kmeans_labels).value_counts())"
      ],
      "metadata": {
        "colab": {
          "base_uri": "https://localhost:8080/",
          "height": 124
        },
        "id": "hwkv7WEheYWE",
        "outputId": "90156feb-d520-46e8-d6d5-2d6718d9a9d9"
      },
      "execution_count": 21,
      "outputs": [
        {
          "output_type": "stream",
          "name": "stderr",
          "text": [
            "/usr/local/lib/python3.10/dist-packages/sklearn/cluster/_kmeans.py:870: FutureWarning: The default value of `n_init` will change from 10 to 'auto' in 1.4. Set the value of `n_init` explicitly to suppress the warning\n",
            "  warnings.warn(\n"
          ]
        },
        {
          "output_type": "display_data",
          "data": {
            "text/plain": [
              "0    95030\n",
              "1    42205\n",
              "dtype: int64"
            ]
          },
          "metadata": {}
        }
      ]
    },
    {
      "cell_type": "code",
      "source": [
        "data_scaled['Cluster']=kmeans_labels\n"
      ],
      "metadata": {
        "id": "kT2kh616gwdG"
      },
      "execution_count": 22,
      "outputs": []
    },
    {
      "cell_type": "code",
      "source": [
        "sns.set( rc={'figure.figsize':(5,4)},font_scale=1)\n",
        "\n",
        "plt.scatter(x=pca_2_result[:, 0], y=pca_2_result[:, 1], c=kmeans_labels, cmap='viridis')\n",
        "plt.scatter(centroids[:, 0], centroids[:, 1],\n",
        "            marker='x', s=160, color='black')\n",
        "\n",
        "plt.xlabel('Principal Component 1')\n",
        "plt.ylabel('Principal Component 2')\n",
        "# добавить легенду\n",
        "\n",
        "plt.title('Clustered Data (PCA visualization)',fontweight='bold')\n",
        "\n",
        "plt.show()"
      ],
      "metadata": {
        "colab": {
          "base_uri": "https://localhost:8080/",
          "height": 419
        },
        "id": "x4zOdF4qg4ZY",
        "outputId": "a1ad9628-4590-4372-8b3e-6c5ecc7da35a"
      },
      "execution_count": 23,
      "outputs": [
        {
          "output_type": "display_data",
          "data": {
            "text/plain": [
              "<Figure size 500x400 with 1 Axes>"
            ],
            "image/png": "[encoded data removed]"
          },
          "metadata": {}
        }
      ]
    },
    {
      "cell_type": "markdown",
      "source": [
        "For me it doesn't look believable.. Though, there is no certain borderline to have these two clusters. As for me there is no possible clustering at all. Just one big chunk of data.. Numbers below for inertia and silhouette support this opinion (inertia is enormous and silhouette is not big enough)"
      ],
      "metadata": {
        "id": "LbwbVqDMhNYP"
      }
    },
    {
      "cell_type": "code",
      "source": [
        "print(\"Inertia score: %0.1f\" % kmeans.inertia_,\n",
        "    \"\\nSilhouette score: %0.1f\" % silhouette_score(pca_2_result, kmeans.labels_, metric='euclidean'))"
      ],
      "metadata": {
        "colab": {
          "base_uri": "https://localhost:8080/"
        },
        "id": "ANltCYhOhbTL",
        "outputId": "c2c69a23-fc9e-4996-ea5f-df949f818b86"
      },
      "execution_count": 24,
      "outputs": [
        {
          "output_type": "stream",
          "name": "stdout",
          "text": [
            "Inertia score: 272124.6 \n",
            "Silhouette score: 0.5\n"
          ]
        }
      ]
    },
    {
      "cell_type": "markdown",
      "source": [
        "### "
      ],
      "metadata": {
        "id": "0JCTGFypk6VG"
      }
    },
    {
      "cell_type": "code",
      "source": [
        "from sklearn.cluster import AgglomerativeClustering\n",
        "from sklearn import metrics"
      ],
      "metadata": {
        "id": "tYWrP1COk5nf"
      },
      "execution_count": 25,
      "outputs": []
    },
    {
      "cell_type": "markdown",
      "source": [
        "I tried to use this algorithm on full dataset but I ended up with some kind of memory error. Therefore, I've decided to run it on a (large) part of dataset"
      ],
      "metadata": {
        "id": "OWyhjgDPooWq"
      }
    },
    {
      "cell_type": "code",
      "source": [
        "X = data_scaled.drop(\"Cluster\",axis=1)\n",
        "X = X[:10000]\n",
        "cluster = AgglomerativeClustering(n_clusters=2)\n",
        "cluster.fit(X)\n",
        "X['Cluster'] = cluster.labels_\n",
        "X['Cluster'].value_counts()\n",
        "\n"
      ],
      "metadata": {
        "colab": {
          "base_uri": "https://localhost:8080/"
        },
        "id": "ULT-gaWh0SYt",
        "outputId": "e6e0adda-5118-47f7-a9c5-6d8680ea4f11"
      },
      "execution_count": 26,
      "outputs": [
        {
          "output_type": "execute_result",
          "data": {
            "text/plain": [
              "0    8539\n",
              "1    1461\n",
              "Name: Cluster, dtype: int64"
            ]
          },
          "metadata": {},
          "execution_count": 26
        }
      ]
    },
    {
      "cell_type": "code",
      "source": [
        "sns.set(rc={'figure.figsize':(5,4)},font_scale=1)\n",
        "\n",
        "plt.scatter(x=pca_2_result[:10000, 0] , y=pca_2_result[:10000, 1],c=cluster.labels_, cmap = \"viridis\")\n",
        "plt.xlabel('PC 1')\n",
        "plt.ylabel('PC 2')\n",
        "\n",
        "plt.title('Распределение данных по двум главным компонентам')\n",
        "plt.show()"
      ],
      "metadata": {
        "colab": {
          "base_uri": "https://localhost:8080/",
          "height": 419
        },
        "id": "dbUiHtWA7Mqn",
        "outputId": "c881733f-bb8a-48f1-c7c2-123473280f89"
      },
      "execution_count": 27,
      "outputs": [
        {
          "output_type": "display_data",
          "data": {
            "text/plain": [
              "<Figure size 500x400 with 1 Axes>"
            ],
            "image/png": "[encoded data removed]"
          },
          "metadata": {}
        }
      ]
    },
    {
      "cell_type": "markdown",
      "source": [
        "Since I reduced the dataset, I cannot actually compare these two clustering algorithms but visually it looks meaningless too.. But still better. Maybe if I were to visualize it not using PCs it would look better"
      ],
      "metadata": {
        "id": "o3x6yYzvC68c"
      }
    },
    {
      "cell_type": "code",
      "source": [
        "print(\"Silhouette Coefficient: %0.3f\", metrics.silhouette_score(X, cluster.labels_))"
      ],
      "metadata": {
        "colab": {
          "base_uri": "https://localhost:8080/"
        },
        "id": "pxh9V7PS7gYT",
        "outputId": "ec37e9be-2573-4035-e54c-b0cf92b6ecf2"
      },
      "execution_count": 28,
      "outputs": [
        {
          "output_type": "stream",
          "name": "stdout",
          "text": [
            "Silhouette Coefficient: %0.3f 0.24271024696710847\n"
          ]
        }
      ]
    },
    {
      "cell_type": "markdown",
      "source": [
        "It looks like this one is a little better than Kmeans according to silhouette. I don't even try to replicate inertia metric because it's meaningless for this algorithm"
      ],
      "metadata": {
        "id": "278q4VvACuWa"
      }
    }
  ]
}